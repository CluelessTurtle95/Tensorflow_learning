{
 "cells": [
  {
   "cell_type": "code",
   "execution_count": 1,
   "metadata": {},
   "outputs": [],
   "source": [
    "from sklearn.datasets import fetch_california_housing\n",
    "from sklearn.preprocessing import StandardScaler\n",
    "\n",
    "housing = fetch_california_housing()\n",
    "\n",
    "Xs = housing.data\n",
    "ys = housing.target\n",
    "\n",
    "from datetime import datetime\n",
    "\n",
    "now = datetime.utcnow().strftime(\"%Y%m%d%H%M%S\")\n",
    "root_dir = \"tf_logs\"\n",
    "logdir = \"{}/run-{}\".format(root_dir , now)\n"
   ]
  },
  {
   "cell_type": "code",
   "execution_count": 2,
   "metadata": {},
   "outputs": [],
   "source": [
    "scaler = StandardScaler()\n",
    "\n",
    "Xscaled = scaler.fit_transform(Xs)"
   ]
  },
  {
   "cell_type": "code",
   "execution_count": 3,
   "metadata": {},
   "outputs": [],
   "source": [
    "import numpy as np\n",
    "\n",
    "Xbias = np.c_[ np.ones((Xscaled.shape[0] , 1)), Xscaled]"
   ]
  },
  {
   "cell_type": "code",
   "execution_count": 4,
   "metadata": {},
   "outputs": [],
   "source": [
    "import tensorflow as tf"
   ]
  },
  {
   "cell_type": "code",
   "execution_count": 5,
   "metadata": {},
   "outputs": [
    {
     "name": "stdout",
     "output_type": "stream",
     "text": [
      "WARNING:tensorflow:From /usr/local/lib/python3.6/dist-packages/tensorflow/python/framework/op_def_library.py:263: colocate_with (from tensorflow.python.framework.ops) is deprecated and will be removed in a future version.\n",
      "Instructions for updating:\n",
      "Colocations handled automatically by placer.\n"
     ]
    }
   ],
   "source": [
    "n_epochs = 1000\n",
    "learning_rate = 0.01\n",
    "\n",
    "m = Xs.shape[0]\n",
    "n = Xs.shape[1]\n",
    "\"\"\"\n",
    "X = tf.constant(Xbias , dtype=tf.float32 , name=\"X\")\n",
    "y = tf.constant(ys.reshape(-1 , 1) , dtype=tf.float32 , name=\"y\")\n",
    "\"\"\"\n",
    "\n",
    "X = tf.placeholder(tf.float32 , shape=(None , n + 1) , name=\"X\")\n",
    "y = tf.placeholder(tf.float32 , shape=(None , 1) , name=\"y\")\n",
    "\n",
    "batch_size = 100\n",
    "n_batches = int(np.ceil(m/batch_size) - 1)\n",
    "\n",
    "theta = tf.Variable(tf.random_uniform([n+1 , n] , -1.0 , 1.0 ) , name=\"theta\")\n",
    "\n",
    "ypred = tf.matmul(X , theta , name=\"predictions\")\n",
    "error = ypred - y\n",
    "mse = tf.reduce_mean(tf.square(error) , name=\"mse\")\n",
    "gradients = 2/m * tf.matmul(tf.transpose(X) , error)\n",
    "training_op = tf.assign(theta , theta - learning_rate * gradients)\n",
    "\n",
    "init = tf.global_variables_initializer()\n",
    "saver = tf.train.Saver()\n",
    "\n",
    "mse_summary = tf.summary.scalar('MSE' , mse)\n",
    "file_writer = tf.summary.FileWriter(logdir , tf.get_default_graph())"
   ]
  },
  {
   "cell_type": "code",
   "execution_count": 6,
   "metadata": {},
   "outputs": [],
   "source": [
    "def fetch_data(epoch , batch_index , batch_size):\n",
    "    a = Xbias[ batch_index*batch_size:(batch_index+1)*batch_size, :]\n",
    "    b = ys[ batch_index*batch_size:(batch_index+1)*batch_size ].reshape(-1 , 1)\n",
    "    return a , b"
   ]
  },
  {
   "cell_type": "code",
   "execution_count": 7,
   "metadata": {},
   "outputs": [],
   "source": [
    "\n",
    "with tf.Session() as sess:\n",
    "    sess.run(init)\n",
    "    \n",
    "    for epoch in range(n_epochs):\n",
    "        for batch_index in range(n_batches):\n",
    "            if epoch % 100 == 0:\n",
    "                #print(\"Epoch {} MSE = {}\".format(epoch , mse.eval()))\n",
    "                saver.save( sess , \"/tmp/my_model.ckpt\")\n",
    "            a , b = fetch_data(epoch=epoch , batch_index=batch_index , batch_size=batch_size)\n",
    "            if batch_index % 10 == 0:\n",
    "                summary_str = mse_summary.eval(feed_dict={X:a , y:b})\n",
    "                step = epoch * n_batches + batch_index\n",
    "                file_writer.add_summary(summary_str , step)\n",
    "            \n",
    "            sess.run(training_op , feed_dict={X : a , y : b})\n",
    "    \n",
    "    best_theta = theta.eval()\n",
    "    save_path = saver.save(sess , \"/tmp/my_model_final.ckpt\")\n",
    "    file_writer.close()"
   ]
  },
  {
   "cell_type": "code",
   "execution_count": 8,
   "metadata": {},
   "outputs": [
    {
     "name": "stdout",
     "output_type": "stream",
     "text": [
      "Final MSE = 0.5350738167762756\n"
     ]
    }
   ],
   "source": [
    "with tf.Session() as sess:\n",
    "    result = mse.eval(feed_dict={theta : best_theta , X : Xbias , y : ys.reshape(-1 , 1)})\n",
    "    \n",
    "print(\"Final MSE = {}\".format(result))"
   ]
  }
 ],
 "metadata": {
  "kernelspec": {
   "display_name": "Python 3",
   "language": "python",
   "name": "python3"
  },
  "language_info": {
   "codemirror_mode": {
    "name": "ipython",
    "version": 3
   },
   "file_extension": ".py",
   "mimetype": "text/x-python",
   "name": "python",
   "nbconvert_exporter": "python",
   "pygments_lexer": "ipython3",
   "version": "3.6.7"
  }
 },
 "nbformat": 4,
 "nbformat_minor": 2
}
