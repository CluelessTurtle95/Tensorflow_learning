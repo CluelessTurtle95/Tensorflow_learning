{
 "cells": [
  {
   "cell_type": "code",
   "execution_count": 1,
   "metadata": {},
   "outputs": [],
   "source": [
    "import tensorflow as tf\n",
    "from sklearn.datasets import make_moons\n",
    "import numpy as np"
   ]
  },
  {
   "cell_type": "code",
   "execution_count": 2,
   "metadata": {},
   "outputs": [],
   "source": [
    "from datetime import datetime\n",
    "now = datetime.utcnow().strftime(\"%Y%m%d%H%M%S\")\n",
    "log_dir = \"tf_logs/run-{}\".format(now)"
   ]
  },
  {
   "cell_type": "code",
   "execution_count": 3,
   "metadata": {},
   "outputs": [],
   "source": [
    "def fetch_data(step , batch_size , n_batches , Xm , ym , perms):\n",
    "    \n",
    "    starting = step * batch_size\n",
    "    indicies = perms[ starting:starting+batch_size]\n",
    "    return Xm[indicies , :] , ym[indicies].reshape(-1,1)"
   ]
  },
  {
   "cell_type": "code",
   "execution_count": 4,
   "metadata": {},
   "outputs": [],
   "source": [
    "\n",
    "def logistic_regression(Xm , ym , learning_rate = 0.1):\n",
    "    \n",
    "    n_features = Xm.shape[1] \n",
    "    n_batches = 10\n",
    "    batch_size = 10\n",
    "    n_epoch = 10\n",
    "    \n",
    "    with tf.name_scope(\"Inputs\"):\n",
    "        X = tf.placeholder(tf.float32 , shape=(None , n_features) , name=\"X\")\n",
    "        y = tf.placeholder(tf.float32 , shape=(None , 1) , name=\"y\")\n",
    "    \n",
    "    with tf.variable_scope(\"Weights\" , reuse=tf.AUTO_REUSE) :\n",
    "        W = tf.get_variable(name=\"W\" , initializer=tf.random_uniform(shape=(n_features , 1) , minval=0.0 , maxval=1.0) , dtype=tf.float32 )\n",
    "        b = tf.get_variable(name=\"b\" , initializer=0.0, dtype=tf.float32 )\n",
    "    \n",
    "    with tf.variable_scope(\"HyperParameters\" , reuse=tf.AUTO_REUSE):\n",
    "        lr = tf.get_variable(name=\"lr\" , initializer=learning_rate  , dtype=tf.float32)\n",
    "    \n",
    "    z = tf.add(tf.matmul(X , W) , b)\n",
    "    prediction = tf.sigmoid(z , name=\"prediction\")\n",
    "    loss =  tf.reduce_sum(- y * tf.log(prediction) - (1 - y) * tf.log(1 - prediction) )\n",
    "    \n",
    "    optimizer = tf.train.GradientDescentOptimizer(learning_rate=lr)\n",
    "    training_op = optimizer.minimize(loss)\n",
    "    \n",
    "    init = tf.global_variables_initializer()\n",
    "    \n",
    "    loss_summary = tf.summary.scalar(\"Loss\" , loss)\n",
    "    file_writer  = tf.summary.FileWriter(logdir=log_dir)\n",
    "    \n",
    "    saver = tf.train.Saver()\n",
    "    \n",
    "    perms = np.random.permutation(Xm.shape[0])\n",
    "    with tf.Session() as sess :\n",
    "        sess.run(init)\n",
    "        \n",
    "        for epoch in range(n_epoch):\n",
    "            for step in range(n_batches):\n",
    "                Xbatch , ybatch = fetch_data(step , batch_size , n_batches , Xm , ym , perms)\n",
    "                if step % 5 == 0 :\n",
    "                    s = loss_summary.eval(feed_dict={X:Xm , y:ym})\n",
    "                    file_writer.add_summary(s , step + epoch * n_batches)\n",
    "                sess.run(training_op , feed_dict={X:Xbatch , y:ybatch})\n",
    "        best_W , best_b = sess.run([W , b])\n",
    "        saver.save(sess , \"/tmp/model_final.ckpt\")\n",
    "        file_writer.close()\n"
   ]
  },
  {
   "cell_type": "code",
   "execution_count": 5,
   "metadata": {},
   "outputs": [],
   "source": [
    "data = make_moons(n_samples=200 , noise=0.2)\n",
    "\n",
    "Xm , ym = data\n",
    "ym = ym.reshape(-1,1)"
   ]
  },
  {
   "cell_type": "code",
   "execution_count": 8,
   "metadata": {},
   "outputs": [],
   "source": [
    "logistic_regression(Xm , ym , 1.0)"
   ]
  },
  {
   "cell_type": "code",
   "execution_count": null,
   "metadata": {},
   "outputs": [],
   "source": []
  }
 ],
 "metadata": {
  "kernelspec": {
   "display_name": "Python 3",
   "language": "python",
   "name": "python3"
  },
  "language_info": {
   "codemirror_mode": {
    "name": "ipython",
    "version": 3
   },
   "file_extension": ".py",
   "mimetype": "text/x-python",
   "name": "python",
   "nbconvert_exporter": "python",
   "pygments_lexer": "ipython3",
   "version": "3.6.7"
  }
 },
 "nbformat": 4,
 "nbformat_minor": 2
}
