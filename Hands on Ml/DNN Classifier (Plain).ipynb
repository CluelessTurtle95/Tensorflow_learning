{
 "cells": [
  {
   "cell_type": "code",
   "execution_count": 2,
   "metadata": {},
   "outputs": [],
   "source": [
    "import pandas as pd"
   ]
  },
  {
   "cell_type": "code",
   "execution_count": 2,
   "metadata": {},
   "outputs": [
    {
     "name": "stderr",
     "output_type": "stream",
     "text": [
      "/usr/lib/python3/dist-packages/sklearn/utils/validation.py:420: DataConversionWarning: Data with input dtype int64 was converted to float64 by StandardScaler.\n",
      "  warnings.warn(msg, DataConversionWarning)\n",
      "/usr/lib/python3/dist-packages/sklearn/utils/validation.py:420: DataConversionWarning: Data with input dtype int64 was converted to float64 by StandardScaler.\n",
      "  warnings.warn(msg, DataConversionWarning)\n",
      "/usr/lib/python3/dist-packages/sklearn/utils/validation.py:420: DataConversionWarning: Data with input dtype int64 was converted to float64 by StandardScaler.\n",
      "  warnings.warn(msg, DataConversionWarning)\n"
     ]
    }
   ],
   "source": [
    "#import pandas as pd\n",
    "import tensorflow as tf\n",
    "import numpy as np\n",
    "import pandas as pd\n",
    "from sklearn.preprocessing import StandardScaler\n",
    "\n",
    "scaler = StandardScaler()\n",
    "\n",
    "data = pd.read_csv(\"mnist_train.csv\")\n",
    "ytrain = data[\"label\"].values.astype(np.int)\n",
    "\n",
    "Xtrain = data.drop(columns=\"label\" , inplace=False).values\n",
    "Xtrain = scaler.fit_transform(Xtrain)\n",
    "\n",
    "test = pd.read_csv(\"mnist_test.csv\")\n",
    "ytest = test[\"label\"].values\n",
    "Xtest = test.drop(columns=\"label\" , inplace=False).values\n",
    "Xtest = scaler.transform(Xtest)\n",
    "\n",
    "from datetime import datetime\n",
    "now = datetime.utcnow().strftime(\"%Y%m%d%H%M%S\")\n",
    "log_dir = \"tf_logs/run-{}\".format(now)"
   ]
  },
  {
   "cell_type": "code",
   "execution_count": 3,
   "metadata": {},
   "outputs": [],
   "source": [
    "n_inputs = 28 * 28\n",
    "n_hidden1 = 300\n",
    "n_hidden2 = 100\n",
    "n_classes = 10\n",
    "\n",
    "#from tensorflow.examples.tutorials.mnist import input_data\n",
    "#mnist = input_data.read_data_sets(\"/tmp/data/\")"
   ]
  },
  {
   "cell_type": "code",
   "execution_count": 4,
   "metadata": {},
   "outputs": [],
   "source": [
    "def layer(X , n_neurons  , name , activation = None):\n",
    "    n = int(X.get_shape()[1])\n",
    "    stddev = 2/np.sqrt(n_neurons + n)\n",
    "    with tf.name_scope(name=name):\n",
    "        W = tf.Variable(tf.truncated_normal(shape=(n , n_neurons) , stddev=stddev) , name=\"W\" , dtype=tf.float32)\n",
    "        b = tf.Variable(tf.zeros( [n_neurons] ) , name=\"b\" , dtype=tf.float32)\n",
    "        z = tf.add(tf.matmul(X , W) , b)\n",
    "        if activation is not None :\n",
    "            return activation(z)\n",
    "        else :\n",
    "            return z"
   ]
  },
  {
   "cell_type": "code",
   "execution_count": 4,
   "metadata": {},
   "outputs": [
    {
     "name": "stdout",
     "output_type": "stream",
     "text": [
      "WARNING:tensorflow:From <ipython-input-4-0ddcaf13b540>:7: dense (from tensorflow.python.layers.core) is deprecated and will be removed in a future version.\n",
      "Instructions for updating:\n",
      "Use keras.layers.dense instead.\n",
      "WARNING:tensorflow:From /usr/local/lib/python3.6/dist-packages/tensorflow/python/framework/op_def_library.py:263: colocate_with (from tensorflow.python.framework.ops) is deprecated and will be removed in a future version.\n",
      "Instructions for updating:\n",
      "Colocations handled automatically by placer.\n"
     ]
    }
   ],
   "source": [
    "X = tf.placeholder(tf.float32 , shape=(None , n_inputs) , name=\"X\")\n",
    "y = tf.placeholder(tf.int64 , shape=(None) , name=\"y\")\n",
    "\n",
    "he_init = tf.variance_scaling_initializer()\n",
    "\n",
    "with tf.name_scope(\"DNN\") :\n",
    "    hidden1 = tf.layers.dense(X , n_hidden1 , activation=tf.nn.elu , name=\"hidden1\"  , kernel_initializer=he_init , kern) # can be repaced with tf.layers.dense\n",
    "    hidden2 = tf.layers.dense(hidden1 , n_hidden2 , activation=tf.nn.elu , name=\"hidden2\" , kernel_initializer=he_init)\n",
    "    logits = tf.layers.dense(hidden2 , n_classes , name=\"outputs\" )\n",
    "    \n",
    "with tf.name_scope(\"loss\") :\n",
    "    xentropy = tf.nn.sparse_softmax_cross_entropy_with_logits(labels=y , logits=logits)\n",
    "    loss = tf.reduce_mean(xentropy , name=\"Loss\")\n",
    "\n",
    "with tf.name_scope(\"Records\") :\n",
    "    loss_summary = tf.summary.scalar(\"Loss_sum\" , loss)\n",
    "    file_writer = tf.summary.FileWriter(log_dir , tf.get_default_graph())\n",
    "    \n",
    "    \n",
    "lr = 0.01\n",
    "with tf.name_scope(\"train\") :\n",
    "    optimizer = tf.train.GradientDescentOptimizer(learning_rate=lr)\n",
    "    training_op = optimizer.minimize(loss)\n",
    "    \n",
    "with tf.name_scope(\"eval\"):\n",
    "    correct = tf.nn.in_top_k(logits , y , 1)\n",
    "    accuracy = tf.reduce_mean(tf.cast(correct , dtype=tf.float32))\n",
    "    \n",
    "init = tf.global_variables_initializer()\n",
    "saver = tf.train.Saver()"
   ]
  },
  {
   "cell_type": "code",
   "execution_count": 5,
   "metadata": {},
   "outputs": [],
   "source": [
    "def fetch_data(step , batch_size , n_batches , Xm , ym , perms):\n",
    "    \n",
    "    starting = step * batch_size\n",
    "    indicies = perms[ starting:starting+batch_size]\n",
    "    return Xm[indicies , :] , ym[indicies].reshape(-1)"
   ]
  },
  {
   "cell_type": "code",
   "execution_count": 6,
   "metadata": {},
   "outputs": [
    {
     "name": "stdout",
     "output_type": "stream",
     "text": [
      "Epoch : 0 Train_acc : 0.9175166487693787 \n",
      "Epoch : 1 Train_acc : 0.934066653251648 \n",
      "Epoch : 2 Train_acc : 0.9433000087738037 \n",
      "Epoch : 3 Train_acc : 0.9504833221435547 \n",
      "Epoch : 4 Train_acc : 0.9563000202178955 \n",
      "Epoch : 5 Train_acc : 0.9606500267982483 \n",
      "Epoch : 6 Train_acc : 0.9641333222389221 \n",
      "Epoch : 7 Train_acc : 0.9673666954040527 \n",
      "Epoch : 8 Train_acc : 0.9700833559036255 \n",
      "Epoch : 9 Train_acc : 0.9726333618164062 \n",
      "Epoch : 10 Train_acc : 0.9744166731834412 \n",
      "Epoch : 11 Train_acc : 0.9763333201408386 \n",
      "Epoch : 12 Train_acc : 0.9775166511535645 \n",
      "Epoch : 13 Train_acc : 0.9788333177566528 \n",
      "Epoch : 14 Train_acc : 0.9800166487693787 \n"
     ]
    }
   ],
   "source": [
    "n_epoch = 15\n",
    "n_batches = 1000\n",
    "batch_size = 50\n",
    "perms = np.random.permutation(batch_size * n_batches)\n",
    "\n",
    "with tf.Session() as sess: \n",
    "    sess.run(init)\n",
    "    \n",
    "    for epoch in range(n_epoch):\n",
    "        for step in range(n_batches):\n",
    "            #indicies = perms[ step*batch_size:step*batch_size+batch_size]\n",
    "            Xbatch , ybatch = Xtrain[step*batch_size:step*batch_size+batch_size , :] , ytrain[step*batch_size:step*batch_size+batch_size].reshape(-1)\n",
    "            sess.run(training_op , feed_dict={X:Xbatch , y:ybatch})\n",
    "            sum_ = loss_summary.eval(feed_dict={X:Xbatch , y:ybatch})\n",
    "            file_writer.add_summary(sum_ , step + epoch * n_batches)\n",
    "        acc_train = sess.run(accuracy , feed_dict={X:Xtrain , y:ytrain})\n",
    "        print(\"Epoch : {} Train_acc : {} \".format(epoch , acc_train))\n",
    "    saver.save(sess , \"/tmp/mnist_dnn_plain.ckpt\")"
   ]
  },
  {
   "cell_type": "code",
   "execution_count": 7,
   "metadata": {},
   "outputs": [
    {
     "name": "stdout",
     "output_type": "stream",
     "text": [
      "WARNING:tensorflow:From /usr/local/lib/python3.6/dist-packages/tensorflow/python/training/saver.py:1266: checkpoint_exists (from tensorflow.python.training.checkpoint_management) is deprecated and will be removed in a future version.\n",
      "Instructions for updating:\n",
      "Use standard file APIs to check for files with this prefix.\n",
      "INFO:tensorflow:Restoring parameters from /tmp/mnist_dnn_plain.ckpt\n",
      "Test Accuracy : 0.9660000205039978\n"
     ]
    }
   ],
   "source": [
    "with tf.Session() as sess:\n",
    "    saver.restore(sess , \"/tmp/mnist_dnn_plain.ckpt\")\n",
    "    test_acc = accuracy.eval(feed_dict={X:Xtest , y:ytest})\n",
    "    print(\"Test Accuracy : {}\" .format(test_acc))"
   ]
  },
  {
   "cell_type": "code",
   "execution_count": null,
   "metadata": {},
   "outputs": [],
   "source": []
  }
 ],
 "metadata": {
  "kernelspec": {
   "display_name": "Python 3",
   "language": "python",
   "name": "python3"
  },
  "language_info": {
   "codemirror_mode": {
    "name": "ipython",
    "version": 3
   },
   "file_extension": ".py",
   "mimetype": "text/x-python",
   "name": "python",
   "nbconvert_exporter": "python",
   "pygments_lexer": "ipython3",
   "version": "3.6.7"
  }
 },
 "nbformat": 4,
 "nbformat_minor": 2
}
