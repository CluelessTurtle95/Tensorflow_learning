{
 "cells": [
  {
   "cell_type": "code",
   "execution_count": 1,
   "metadata": {},
   "outputs": [],
   "source": [
    "import tensorflow as tf\n",
    "import numpy as np\n",
    "import pandas as pd\n",
    "from sklearn.base import BaseEstimator , ClassifierMixin\n",
    "import matplotlib.pyplot as plt"
   ]
  },
  {
   "cell_type": "code",
   "execution_count": 29,
   "metadata": {},
   "outputs": [],
   "source": [
    "data = pd.read_csv(\"mnist_train.csv\")"
   ]
  },
  {
   "cell_type": "code",
   "execution_count": 30,
   "metadata": {},
   "outputs": [],
   "source": [
    "ytrain = data[\"label\"]\n",
    "Xtrain = data.drop(columns=\"label\" , inplace=False)\n",
    "ytrain = ytrain.values\n",
    "Xtrain = Xtrain.values\n",
    "\n",
    "Xtrain = Xtrain.reshape(-1 , 28 , 28 , 1)"
   ]
  },
  {
   "cell_type": "code",
   "execution_count": 31,
   "metadata": {},
   "outputs": [],
   "source": [
    "from sklearn.model_selection import train_test_split\n",
    "\n",
    "Xtrain , Xval , ytrain , yval = train_test_split(Xtrain , ytrain , test_size=0.005 , random_state=42)"
   ]
  },
  {
   "cell_type": "code",
   "execution_count": 25,
   "metadata": {},
   "outputs": [],
   "source": [
    "class CNNClassifier(BaseEstimator , ClassifierMixin):\n",
    "    def __init__(self , activation_conv=tf.nn.relu , activation = tf.nn.elu , log_dir = None\n",
    "                , optimizer = tf.train.AdamOptimizer , learning_Rate = 0.001 , batch_norm = False , dropout = None):\n",
    "        self.activation = activation\n",
    "        self.activation_conv = activation_conv\n",
    "        self.optimizer = optimizer\n",
    "        self.learning_Rate = learning_Rate\n",
    "        self.batch_norm = batch_norm\n",
    "        self.dropout = dropout\n",
    "        if (dropout is not None) or (batch_norm is True) :\n",
    "            self.training = tf.placeholder_with_default(False , shape=())\n",
    "        self._session = None\n",
    "        self.log_dir = log_dir\n",
    "    \n",
    "    def get_model_params(self):\n",
    "        with self.graph_.as_default():\n",
    "            gvars = tf.get_collection(tf.GraphKeys.GLOBAL_VARIABLES)\n",
    "        return {gvar.op.name : self._session.run(gvar) for gvar in gvars}\n",
    "    \n",
    "    def restore_model_params(self , model_params):\n",
    "        gvar_names = list(model_params.keys())\n",
    "        assign_ops = {gvar_name : self.graph_.get_operation_by_name(gvar_name + \"/Assign\") for gvar_name in gvar_names}\n",
    "        init_values = {gvar_name : assign_op.inputs[1] for gvar_name , assign_op in assign_ops.items()}\n",
    "        self._session.run(assign_ops.values() , feed_dict={init_values[gvar_name] : model_params[gvar_name] for gvar_name in gvar_names})\n",
    "    \n",
    "    def save(self):\n",
    "        saver.save( self.session_ , \"/tmp/my_model.ckpt\")\n",
    "    \n",
    "    def build_graph(self , graph):\n",
    "        with graph.as_default():\n",
    "            X = tf.placeholder(tf.float32 , shape=(None , 28 , 28 , 1) , name=\"X\")\n",
    "            y = tf.placeholder(tf.int32 , shape=(None) , name=\"y\")\n",
    "\n",
    "            inputs = X\n",
    "\n",
    "            inputs = tf.layers.conv2d(inputs , filters = 5, activation=self.activation_conv , \n",
    "                                      kernel_size=5 , strides=[1,1] , padding=\"SAME\" , name=\"Conv1\")\n",
    "            inputs = tf.layers.conv2d(inputs , filters = 10, activation=self.activation_conv , \n",
    "                                      kernel_size=3 , strides=[1,1] , padding=\"SAME\" , name=\"Conv2\")\n",
    "            inputs = tf.layers.max_pooling2d(inputs , strides=[2,2] , padding=\"VALID\" , pool_size=[2,2] , name=\"Pool1\")\n",
    "            inputs = tf.layers.conv2d(inputs , filters = 20, activation=self.activation_conv , \n",
    "                                      kernel_size=3 , strides=[1,1] , padding=\"SAME\")\n",
    "            inputs = tf.nn.local_response_normalization(inputs , depth_radius=2)\n",
    "            inputs = tf.layers.max_pooling2d(inputs , strides=[2,2] , padding=\"VALID\" , pool_size=[2,2] , name=\"Pool2\")\n",
    "            inputs = tf.layers.conv2d(inputs , filters = 50, activation=self.activation_conv , \n",
    "                                      kernel_size=5 , strides=[1,1] , padding=\"SAME\")\n",
    "            inputs = tf.layers.conv2d(inputs , filters = 100, activation=self.activation_conv , \n",
    "                                      kernel_size=3 , strides=[1,1] , padding=\"SAME\")\n",
    "            inputs = tf.layers.average_pooling2d(inputs , padding=\"VALID\" , pool_size=7 , strides=1 , name=\"Global_Avg_Pool\")\n",
    "            inputs = tf.layers.flatten(inputs , name=\"Flatten\")\n",
    "            if self.dropout is not None :\n",
    "                inputs = tf.layers.dropout(inputs , self.dropout , training=self.training , name=\"Dropout\")\n",
    "            inputs = tf.layers.dense(inputs , units=50 , activation=None ,\n",
    "                                     kernel_initializer=tf.variance_scaling_initializer() , name=\"Hidden_Layer\")\n",
    "            if self.batch_norm:\n",
    "                inputs = tf.layers.batch_normalization(inputs , momentum=0.9 , training = self.training , name=\"Batch Norm\")\n",
    "            inputs = self.activation(inputs)\n",
    "            logits = tf.layers.dense(inputs , 10 , activation=None , kernel_initializer=tf.variance_scaling_initializer())\n",
    "\n",
    "            loss = tf.nn.sparse_softmax_cross_entropy_with_logits(labels=y , logits=logits)\n",
    "            loss = tf.reduce_mean(loss , name=\"Loss\")\n",
    "\n",
    "            self.y_proba = tf.nn.softmax(logits , name = \"Probabilities\")\n",
    "            accuracy = tf.reduce_mean(tf.cast(tf.math.in_top_k(logits , y , 1),tf.float32) , name=\"Accuracy\")\n",
    "\n",
    "            optimizer = self.optimizer()\n",
    "            training_op = optimizer.minimize(loss)\n",
    "            if self.batch_norm :\n",
    "                training_op = [ training_op , tf.get_collection(tf.GraphKeys.UPDATE_OPS)]\n",
    "\n",
    "            self.init = tf.global_variables_initializer()\n",
    "            self.saver = tf.train.Saver()\n",
    "            self.X_ = X \n",
    "            self.y_ = y\n",
    "            self.training_op = training_op\n",
    "            self.accuracy = accuracy\n",
    "            self.loss = loss\n",
    "\n",
    "    def fit(self , Xtrain , ytrain ,Xval = None , yval = None ,  batch_size = 50 , n_epoch = 10):\n",
    "        self.close_session()\n",
    "        \n",
    "        self.graph_ = tf.get_default_graph()\n",
    "        tf.reset_default_graph()\n",
    "        \n",
    "        num_examples = Xtrain.shape[0]\n",
    "        Xreshaped = Xtrain.reshape( [ num_examples , 28 , 28 , 1 ] )\n",
    "        \n",
    "        max_checks_without_progress = 20\n",
    "        checks_without_progress = 0\n",
    "        best_acc = 0\n",
    "        best_params = None\n",
    "        \n",
    "        self.build_graph(graph = self.graph_)\n",
    "        self._session = tf.Session(graph=self.graph_)\n",
    "        \n",
    "        if Xval is not None and yval is not None:\n",
    "            feed_dict_val = {self.X_ : Xval , self.y_:yval}\n",
    "        else :\n",
    "            feed_dict_val = None\n",
    "        \n",
    "        with self._session.as_default() as sess :\n",
    "            sess.run(self.init)\n",
    "            for epoch in range(n_epoch):\n",
    "                perms = np.random.permutation(num_examples)\n",
    "                Xbatches = np.array_split(Xreshaped[perms] , num_examples // batch_size)\n",
    "                ybatches = np.array_split(ytrain[perms] , num_examples // batch_size )\n",
    "                for Xbatch , ybatch in zip(Xbatches , ybatches):\n",
    "                    feed_dict = {self.X_:Xbatch , self.y_:ybatch}\n",
    "                    if self.batch_norm or self.dropout :\n",
    "                        feed_dict[self.training] = True\n",
    "                    sess.run(self.training_op , feed_dict=feed_dict)\n",
    "                    \n",
    "                    if feed_dict_val :\n",
    "                        acc = self.accuracy.eval(feed_dict = feed_dict_val)\n",
    "                    else :\n",
    "                        if self.batch_norm or self.dropout :\n",
    "                            feed_dict[self.training] = False\n",
    "                        acc = self.accuracy.eval(feed_dict)\n",
    "                    if acc > best_acc:\n",
    "                        best_acc = acc\n",
    "                        best_params = self.get_model_params()\n",
    "                print(\"Epoch {} Accuracy : {} | Best : {}\".format(epoch + 1 , acc , best_acc))\n",
    "            \n",
    "            self.restore_model_params(best_params)\n",
    "            return\n",
    "        \n",
    "    def close_session(self):\n",
    "        if self._session:\n",
    "            self._session.close()\n",
    "    def predict(self , X):\n",
    "        return np.argmax(self.predict_proba(X) , axis=1)\n",
    "    def predict_proba(self , X):\n",
    "        if self._session :\n",
    "            return self._session.run(self.y_proba , feed_dict = {self.X_:X})\n",
    "        else:\n",
    "            raise NotFittedError(\"Not Fitted Yet\")"
   ]
  },
  {
   "cell_type": "code",
   "execution_count": 32,
   "metadata": {},
   "outputs": [],
   "source": [
    "Xtrain = Xtrain[:50000]\n",
    "ytrain = ytrain[:50000]\n",
    "Xval = Xval[:100]\n",
    "yval = yval[:100]"
   ]
  },
  {
   "cell_type": "code",
   "execution_count": 33,
   "metadata": {},
   "outputs": [
    {
     "data": {
      "text/plain": [
       "(50000, 28, 28, 1)"
      ]
     },
     "execution_count": 33,
     "metadata": {},
     "output_type": "execute_result"
    }
   ],
   "source": [
    "Xtrain.shape"
   ]
  },
  {
   "cell_type": "code",
   "execution_count": 34,
   "metadata": {},
   "outputs": [
    {
     "data": {
      "text/plain": [
       "(100, 28, 28, 1)"
      ]
     },
     "execution_count": 34,
     "metadata": {},
     "output_type": "execute_result"
    }
   ],
   "source": [
    "Xval.shape"
   ]
  },
  {
   "cell_type": "code",
   "execution_count": 12,
   "metadata": {},
   "outputs": [
    {
     "ename": "KeyboardInterrupt",
     "evalue": "",
     "output_type": "error",
     "traceback": [
      "\u001b[0;31m---------------------------------------------------------------------------\u001b[0m",
      "\u001b[0;31mKeyboardInterrupt\u001b[0m                         Traceback (most recent call last)",
      "\u001b[0;32m<ipython-input-12-26509f812d47>\u001b[0m in \u001b[0;36m<module>\u001b[0;34m()\u001b[0m\n\u001b[1;32m      1\u001b[0m \u001b[0mclf\u001b[0m \u001b[0;34m=\u001b[0m \u001b[0mCNNClassifier\u001b[0m\u001b[0;34m(\u001b[0m\u001b[0;34m)\u001b[0m\u001b[0;34m\u001b[0m\u001b[0;34m\u001b[0m\u001b[0m\n\u001b[0;32m----> 2\u001b[0;31m \u001b[0mclf\u001b[0m\u001b[0;34m.\u001b[0m\u001b[0mfit\u001b[0m\u001b[0;34m(\u001b[0m\u001b[0mXtrain\u001b[0m \u001b[0;34m,\u001b[0m \u001b[0mytrain\u001b[0m\u001b[0;34m,\u001b[0m \u001b[0mXval\u001b[0m \u001b[0;34m,\u001b[0m \u001b[0myval\u001b[0m \u001b[0;34m,\u001b[0m \u001b[0;36m50\u001b[0m \u001b[0;34m,\u001b[0m \u001b[0;36m2\u001b[0m\u001b[0;34m)\u001b[0m\u001b[0;34m\u001b[0m\u001b[0;34m\u001b[0m\u001b[0m\n\u001b[0m",
      "\u001b[0;32m<ipython-input-4-9fd4dec3ccaf>\u001b[0m in \u001b[0;36mfit\u001b[0;34m(self, Xtrain, ytrain, Xval, yval, batch_size, n_epoch)\u001b[0m\n\u001b[1;32m    109\u001b[0m                     \u001b[0;32mif\u001b[0m \u001b[0mself\u001b[0m\u001b[0;34m.\u001b[0m\u001b[0mbatch_norm\u001b[0m \u001b[0;32mor\u001b[0m \u001b[0mself\u001b[0m\u001b[0;34m.\u001b[0m\u001b[0mdropout\u001b[0m \u001b[0;34m:\u001b[0m\u001b[0;34m\u001b[0m\u001b[0;34m\u001b[0m\u001b[0m\n\u001b[1;32m    110\u001b[0m                         \u001b[0mfeed_dict\u001b[0m\u001b[0;34m[\u001b[0m\u001b[0mself\u001b[0m\u001b[0;34m.\u001b[0m\u001b[0mtraining\u001b[0m\u001b[0;34m]\u001b[0m \u001b[0;34m=\u001b[0m \u001b[0;32mTrue\u001b[0m\u001b[0;34m\u001b[0m\u001b[0;34m\u001b[0m\u001b[0m\n\u001b[0;32m--> 111\u001b[0;31m                     \u001b[0msess\u001b[0m\u001b[0;34m.\u001b[0m\u001b[0mrun\u001b[0m\u001b[0;34m(\u001b[0m\u001b[0mself\u001b[0m\u001b[0;34m.\u001b[0m\u001b[0mtraining_op\u001b[0m \u001b[0;34m,\u001b[0m \u001b[0mfeed_dict\u001b[0m\u001b[0;34m=\u001b[0m\u001b[0mfeed_dict\u001b[0m\u001b[0;34m)\u001b[0m\u001b[0;34m\u001b[0m\u001b[0;34m\u001b[0m\u001b[0m\n\u001b[0m\u001b[1;32m    112\u001b[0m \u001b[0;34m\u001b[0m\u001b[0m\n\u001b[1;32m    113\u001b[0m                     \u001b[0;32mif\u001b[0m \u001b[0mfeed_dict_val\u001b[0m \u001b[0;34m:\u001b[0m\u001b[0;34m\u001b[0m\u001b[0;34m\u001b[0m\u001b[0m\n",
      "\u001b[0;32m/usr/local/lib/python3.6/dist-packages/tensorflow/python/client/session.py\u001b[0m in \u001b[0;36mrun\u001b[0;34m(self, fetches, feed_dict, options, run_metadata)\u001b[0m\n\u001b[1;32m    927\u001b[0m     \u001b[0;32mtry\u001b[0m\u001b[0;34m:\u001b[0m\u001b[0;34m\u001b[0m\u001b[0;34m\u001b[0m\u001b[0m\n\u001b[1;32m    928\u001b[0m       result = self._run(None, fetches, feed_dict, options_ptr,\n\u001b[0;32m--> 929\u001b[0;31m                          run_metadata_ptr)\n\u001b[0m\u001b[1;32m    930\u001b[0m       \u001b[0;32mif\u001b[0m \u001b[0mrun_metadata\u001b[0m\u001b[0;34m:\u001b[0m\u001b[0;34m\u001b[0m\u001b[0;34m\u001b[0m\u001b[0m\n\u001b[1;32m    931\u001b[0m         \u001b[0mproto_data\u001b[0m \u001b[0;34m=\u001b[0m \u001b[0mtf_session\u001b[0m\u001b[0;34m.\u001b[0m\u001b[0mTF_GetBuffer\u001b[0m\u001b[0;34m(\u001b[0m\u001b[0mrun_metadata_ptr\u001b[0m\u001b[0;34m)\u001b[0m\u001b[0;34m\u001b[0m\u001b[0;34m\u001b[0m\u001b[0m\n",
      "\u001b[0;32m/usr/local/lib/python3.6/dist-packages/tensorflow/python/client/session.py\u001b[0m in \u001b[0;36m_run\u001b[0;34m(self, handle, fetches, feed_dict, options, run_metadata)\u001b[0m\n\u001b[1;32m   1150\u001b[0m     \u001b[0;32mif\u001b[0m \u001b[0mfinal_fetches\u001b[0m \u001b[0;32mor\u001b[0m \u001b[0mfinal_targets\u001b[0m \u001b[0;32mor\u001b[0m \u001b[0;34m(\u001b[0m\u001b[0mhandle\u001b[0m \u001b[0;32mand\u001b[0m \u001b[0mfeed_dict_tensor\u001b[0m\u001b[0;34m)\u001b[0m\u001b[0;34m:\u001b[0m\u001b[0;34m\u001b[0m\u001b[0;34m\u001b[0m\u001b[0m\n\u001b[1;32m   1151\u001b[0m       results = self._do_run(handle, final_targets, final_fetches,\n\u001b[0;32m-> 1152\u001b[0;31m                              feed_dict_tensor, options, run_metadata)\n\u001b[0m\u001b[1;32m   1153\u001b[0m     \u001b[0;32melse\u001b[0m\u001b[0;34m:\u001b[0m\u001b[0;34m\u001b[0m\u001b[0;34m\u001b[0m\u001b[0m\n\u001b[1;32m   1154\u001b[0m       \u001b[0mresults\u001b[0m \u001b[0;34m=\u001b[0m \u001b[0;34m[\u001b[0m\u001b[0;34m]\u001b[0m\u001b[0;34m\u001b[0m\u001b[0;34m\u001b[0m\u001b[0m\n",
      "\u001b[0;32m/usr/local/lib/python3.6/dist-packages/tensorflow/python/client/session.py\u001b[0m in \u001b[0;36m_do_run\u001b[0;34m(self, handle, target_list, fetch_list, feed_dict, options, run_metadata)\u001b[0m\n\u001b[1;32m   1326\u001b[0m     \u001b[0;32mif\u001b[0m \u001b[0mhandle\u001b[0m \u001b[0;32mis\u001b[0m \u001b[0;32mNone\u001b[0m\u001b[0;34m:\u001b[0m\u001b[0;34m\u001b[0m\u001b[0;34m\u001b[0m\u001b[0m\n\u001b[1;32m   1327\u001b[0m       return self._do_call(_run_fn, feeds, fetches, targets, options,\n\u001b[0;32m-> 1328\u001b[0;31m                            run_metadata)\n\u001b[0m\u001b[1;32m   1329\u001b[0m     \u001b[0;32melse\u001b[0m\u001b[0;34m:\u001b[0m\u001b[0;34m\u001b[0m\u001b[0;34m\u001b[0m\u001b[0m\n\u001b[1;32m   1330\u001b[0m       \u001b[0;32mreturn\u001b[0m \u001b[0mself\u001b[0m\u001b[0;34m.\u001b[0m\u001b[0m_do_call\u001b[0m\u001b[0;34m(\u001b[0m\u001b[0m_prun_fn\u001b[0m\u001b[0;34m,\u001b[0m \u001b[0mhandle\u001b[0m\u001b[0;34m,\u001b[0m \u001b[0mfeeds\u001b[0m\u001b[0;34m,\u001b[0m \u001b[0mfetches\u001b[0m\u001b[0;34m)\u001b[0m\u001b[0;34m\u001b[0m\u001b[0;34m\u001b[0m\u001b[0m\n",
      "\u001b[0;32m/usr/local/lib/python3.6/dist-packages/tensorflow/python/client/session.py\u001b[0m in \u001b[0;36m_do_call\u001b[0;34m(self, fn, *args)\u001b[0m\n\u001b[1;32m   1332\u001b[0m   \u001b[0;32mdef\u001b[0m \u001b[0m_do_call\u001b[0m\u001b[0;34m(\u001b[0m\u001b[0mself\u001b[0m\u001b[0;34m,\u001b[0m \u001b[0mfn\u001b[0m\u001b[0;34m,\u001b[0m \u001b[0;34m*\u001b[0m\u001b[0margs\u001b[0m\u001b[0;34m)\u001b[0m\u001b[0;34m:\u001b[0m\u001b[0;34m\u001b[0m\u001b[0;34m\u001b[0m\u001b[0m\n\u001b[1;32m   1333\u001b[0m     \u001b[0;32mtry\u001b[0m\u001b[0;34m:\u001b[0m\u001b[0;34m\u001b[0m\u001b[0;34m\u001b[0m\u001b[0m\n\u001b[0;32m-> 1334\u001b[0;31m       \u001b[0;32mreturn\u001b[0m \u001b[0mfn\u001b[0m\u001b[0;34m(\u001b[0m\u001b[0;34m*\u001b[0m\u001b[0margs\u001b[0m\u001b[0;34m)\u001b[0m\u001b[0;34m\u001b[0m\u001b[0;34m\u001b[0m\u001b[0m\n\u001b[0m\u001b[1;32m   1335\u001b[0m     \u001b[0;32mexcept\u001b[0m \u001b[0merrors\u001b[0m\u001b[0;34m.\u001b[0m\u001b[0mOpError\u001b[0m \u001b[0;32mas\u001b[0m \u001b[0me\u001b[0m\u001b[0;34m:\u001b[0m\u001b[0;34m\u001b[0m\u001b[0;34m\u001b[0m\u001b[0m\n\u001b[1;32m   1336\u001b[0m       \u001b[0mmessage\u001b[0m \u001b[0;34m=\u001b[0m \u001b[0mcompat\u001b[0m\u001b[0;34m.\u001b[0m\u001b[0mas_text\u001b[0m\u001b[0;34m(\u001b[0m\u001b[0me\u001b[0m\u001b[0;34m.\u001b[0m\u001b[0mmessage\u001b[0m\u001b[0;34m)\u001b[0m\u001b[0;34m\u001b[0m\u001b[0;34m\u001b[0m\u001b[0m\n",
      "\u001b[0;32m/usr/local/lib/python3.6/dist-packages/tensorflow/python/client/session.py\u001b[0m in \u001b[0;36m_run_fn\u001b[0;34m(feed_dict, fetch_list, target_list, options, run_metadata)\u001b[0m\n\u001b[1;32m   1317\u001b[0m       \u001b[0mself\u001b[0m\u001b[0;34m.\u001b[0m\u001b[0m_extend_graph\u001b[0m\u001b[0;34m(\u001b[0m\u001b[0;34m)\u001b[0m\u001b[0;34m\u001b[0m\u001b[0;34m\u001b[0m\u001b[0m\n\u001b[1;32m   1318\u001b[0m       return self._call_tf_sessionrun(\n\u001b[0;32m-> 1319\u001b[0;31m           options, feed_dict, fetch_list, target_list, run_metadata)\n\u001b[0m\u001b[1;32m   1320\u001b[0m \u001b[0;34m\u001b[0m\u001b[0m\n\u001b[1;32m   1321\u001b[0m     \u001b[0;32mdef\u001b[0m \u001b[0m_prun_fn\u001b[0m\u001b[0;34m(\u001b[0m\u001b[0mhandle\u001b[0m\u001b[0;34m,\u001b[0m \u001b[0mfeed_dict\u001b[0m\u001b[0;34m,\u001b[0m \u001b[0mfetch_list\u001b[0m\u001b[0;34m)\u001b[0m\u001b[0;34m:\u001b[0m\u001b[0;34m\u001b[0m\u001b[0;34m\u001b[0m\u001b[0m\n",
      "\u001b[0;32m/usr/local/lib/python3.6/dist-packages/tensorflow/python/client/session.py\u001b[0m in \u001b[0;36m_call_tf_sessionrun\u001b[0;34m(self, options, feed_dict, fetch_list, target_list, run_metadata)\u001b[0m\n\u001b[1;32m   1405\u001b[0m     return tf_session.TF_SessionRun_wrapper(\n\u001b[1;32m   1406\u001b[0m         \u001b[0mself\u001b[0m\u001b[0;34m.\u001b[0m\u001b[0m_session\u001b[0m\u001b[0;34m,\u001b[0m \u001b[0moptions\u001b[0m\u001b[0;34m,\u001b[0m \u001b[0mfeed_dict\u001b[0m\u001b[0;34m,\u001b[0m \u001b[0mfetch_list\u001b[0m\u001b[0;34m,\u001b[0m \u001b[0mtarget_list\u001b[0m\u001b[0;34m,\u001b[0m\u001b[0;34m\u001b[0m\u001b[0;34m\u001b[0m\u001b[0m\n\u001b[0;32m-> 1407\u001b[0;31m         run_metadata)\n\u001b[0m\u001b[1;32m   1408\u001b[0m \u001b[0;34m\u001b[0m\u001b[0m\n\u001b[1;32m   1409\u001b[0m   \u001b[0;32mdef\u001b[0m \u001b[0m_call_tf_sessionprun\u001b[0m\u001b[0;34m(\u001b[0m\u001b[0mself\u001b[0m\u001b[0;34m,\u001b[0m \u001b[0mhandle\u001b[0m\u001b[0;34m,\u001b[0m \u001b[0mfeed_dict\u001b[0m\u001b[0;34m,\u001b[0m \u001b[0mfetch_list\u001b[0m\u001b[0;34m)\u001b[0m\u001b[0;34m:\u001b[0m\u001b[0;34m\u001b[0m\u001b[0;34m\u001b[0m\u001b[0m\n",
      "\u001b[0;31mKeyboardInterrupt\u001b[0m: "
     ]
    }
   ],
   "source": [
    "clf = CNNClassifier()\n",
    "clf.fit(Xtrain , ytrain, Xval , yval , 50 , 2)"
   ]
  },
  {
   "cell_type": "code",
   "execution_count": 6,
   "metadata": {},
   "outputs": [],
   "source": [
    "def checker(img):\n",
    "    plt.imshow(img.reshape([28 , 28]))\n",
    "    plt.show()\n",
    "    print(clf.predict(img.reshape([-1 , 28 , 28 , 1])))"
   ]
  },
  {
   "cell_type": "code",
   "execution_count": 9,
   "metadata": {},
   "outputs": [
    {
     "data": {
      "image/png": "[encoded data removed]",
      "text/plain": [
       "<Figure size 432x288 with 1 Axes>"
      ]
     },
     "metadata": {},
     "output_type": "display_data"
    },
    {
     "name": "stdout",
     "output_type": "stream",
     "text": [
      "[9]\n"
     ]
    }
   ],
   "source": [
    "checker(Xtrain[0])"
   ]
  },
  {
   "cell_type": "code",
   "execution_count": null,
   "metadata": {},
   "outputs": [],
   "source": [
    "clf.save()"
   ]
  },
  {
   "cell_type": "code",
   "execution_count": 27,
   "metadata": {},
   "outputs": [],
   "source": [
    "clf.close_session()"
   ]
  }
 ],
 "metadata": {
  "kernelspec": {
   "display_name": "Python 3",
   "language": "python",
   "name": "python3"
  },
  "language_info": {
   "codemirror_mode": {
    "name": "ipython",
    "version": 3
   },
   "file_extension": ".py",
   "mimetype": "text/x-python",
   "name": "python",
   "nbconvert_exporter": "python",
   "pygments_lexer": "ipython3",
   "version": "3.6.8"
  }
 },
 "nbformat": 4,
 "nbformat_minor": 2
}
