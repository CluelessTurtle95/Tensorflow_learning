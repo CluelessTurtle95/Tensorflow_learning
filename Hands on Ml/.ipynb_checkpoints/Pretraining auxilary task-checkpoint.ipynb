{
 "cells": [
  {
   "cell_type": "code",
   "execution_count": 1,
   "metadata": {},
   "outputs": [],
   "source": [
    "import tensorflow as tf\n",
    "import numpy as np\n",
    "\n",
    "from datetime import datetime\n",
    "now = datetime.utcnow().strftime(\"%Y%m%d%H%M%S\")\n",
    "log_dir = \"tf_logs/run-{}\".format(now)"
   ]
  },
  {
   "cell_type": "code",
   "execution_count": 2,
   "metadata": {},
   "outputs": [],
   "source": [
    "he_init = tf.variance_scaling_initializer()\n",
    "\n",
    "def create_dnn(X , n_hidden , hidden_size , name):\n",
    "    inputs = X\n",
    "    with tf.variable_scope(name):\n",
    "        for i in range(n_hidden):\n",
    "            inputs = tf.layers.dense(inputs , hidden_size , activation=tf.nn.elu , kernel_initializer=he_init , name=\"hidden{}\".format(i+1))\n",
    "    return inputs"
   ]
  },
  {
   "cell_type": "code",
   "execution_count": 3,
   "metadata": {},
   "outputs": [
    {
     "name": "stdout",
     "output_type": "stream",
     "text": [
      "WARNING:tensorflow:From <ipython-input-2-8ed60b849754>:7: dense (from tensorflow.python.layers.core) is deprecated and will be removed in a future version.\n",
      "Instructions for updating:\n",
      "Use keras.layers.dense instead.\n",
      "WARNING:tensorflow:From /usr/local/lib/python3.6/dist-packages/tensorflow/python/framework/op_def_library.py:263: colocate_with (from tensorflow.python.framework.ops) is deprecated and will be removed in a future version.\n",
      "Instructions for updating:\n",
      "Colocations handled automatically by placer.\n",
      "WARNING:tensorflow:From /usr/local/lib/python3.6/dist-packages/tensorflow/python/ops/losses/losses_impl.py:514: to_float (from tensorflow.python.ops.math_ops) is deprecated and will be removed in a future version.\n",
      "Instructions for updating:\n",
      "Use tf.cast instead.\n",
      "WARNING:tensorflow:From /usr/local/lib/python3.6/dist-packages/tensorflow/python/ops/math_ops.py:3066: to_int32 (from tensorflow.python.ops.math_ops) is deprecated and will be removed in a future version.\n",
      "Instructions for updating:\n",
      "Use tf.cast instead.\n"
     ]
    }
   ],
   "source": [
    "Xa = tf.placeholder(tf.float32 , shape=(None , 784) , name=\"Xa\")\n",
    "Xb = tf.placeholder(tf.float32 , shape=(None , 784) , name=\"Xb\")\n",
    "y = tf.placeholder(tf.int64 , shape=(None) , name=\"y\")\n",
    "\n",
    "dnn_a = create_dnn(Xa , 5 , 100 , \"DNN_A\")\n",
    "dnn_b = create_dnn(Xb , 5 , 100 , \"DNN_B\")\n",
    "\n",
    "with tf.name_scope(\"Merge\"):\n",
    "    combo = tf.concat([dnn_a , dnn_b] , axis=1)\n",
    "    hiddenlast = tf.layers.dense(combo , 10 , activation=tf.nn.elu , kernel_initializer=he_init , name=\"hiddenLast\")\n",
    "    output = tf.layers.dense(hiddenlast , 1 , activation=tf.nn.sigmoid , name=\"output\")\n",
    "    \n",
    "loss = tf.losses.log_loss(y , output)\n",
    "\n",
    "prediction = tf.greater(output , 0.5 , name=\"prediction\")\n",
    "accuracy = tf.reduce_mean(tf.cast( tf.equal(tf.cast(prediction , tf.int64) , y), tf.float64) , name=\"accuracy\")\n",
    "\n",
    "acc_summary = tf.summary.scalar(\"Accuracy\" , accuracy)\n",
    "loss_summary = tf.summary.scalar(\"Loss\" , loss)\n",
    "\n",
    "file_writer = tf.summary.FileWriter(log_dir , tf.get_default_graph())\n",
    "\n",
    "optimizer = tf.train.AdamOptimizer(0.01)\n",
    "training_op = optimizer.minimize(loss)\n",
    "\n",
    "init = tf.global_variables_initializer()\n",
    "\n",
    "saver = tf.train.Saver()"
   ]
  },
  {
   "cell_type": "code",
   "execution_count": 4,
   "metadata": {},
   "outputs": [],
   "source": [
    "#from tensorflow.examples.tutorials.mnist import input_data\n",
    "#mnist = input_data.read_data_sets(\"/tmp/data\")"
   ]
  },
  {
   "cell_type": "code",
   "execution_count": 5,
   "metadata": {},
   "outputs": [],
   "source": [
    "#Xt1 = mnist.train.images[:55000]\n",
    "#yt1 = mnist.train.labels[:55000]\n",
    "\n",
    "import pandas as pd\n",
    "\n",
    "data = pd.read_csv(\"mnist_train.csv\")\n",
    "\n",
    "data.head()\n",
    "Xt1 = data.drop(columns=\"label\").values\n",
    "yt1 = data[\"label\"].values"
   ]
  },
  {
   "cell_type": "code",
   "execution_count": 6,
   "metadata": {},
   "outputs": [],
   "source": [
    "\n",
    "\n",
    "Xm = Xt1[:55000].copy()\n",
    "ym = yt1[:55000].copy()\n",
    "\n",
    "def next_batch(step , batch_size):\n",
    "    global Xm , ym\n",
    "    start = step * batch_size\n",
    "    end = start + batch_size\n",
    "    if end > Xt1.shape[0]:\n",
    "        start = 0\n",
    "        end = batch_size\n",
    "        perm = np.random.permutation(Xt1.shape[0])\n",
    "        Xm = Xm[perm]\n",
    "        ym = ym[perm]\n",
    "    return Xm[start:end] , ym[start:end]\n",
    "\n",
    "def fetch_data(step , batch_size):\n",
    "    b1 = next_batch(step , batch_size)\n",
    "    b2 = next_batch(step + 1, batch_size)\n",
    "    X , y = (b1[0] , b2[0]) , b1[1] == b2[1]\n",
    "    return X , y\n",
    "\n",
    "def fetch_false_data(goal):\n",
    "    LabelData = list()\n",
    "    current = 0\n",
    "    step = 0\n",
    "    while current < goal:\n",
    "        data = fetch_data(step , 1)\n",
    "        step = step + 1\n",
    "        if data[1] == False:\n",
    "            LabelData.append(data[0])\n",
    "            current = current + 1\n",
    "    return LabelData , np.zeros((goal))\n",
    "           \n",
    "def fetch_true_data(seed , goal):\n",
    "    np.random.seed(seed)\n",
    "    instanceX = list()\n",
    "    instancey = list()\n",
    "    for i in range(10): # for every digit\n",
    "        digitindicies = (ym == i)\n",
    "        digitindicies = np.argwhere(digitindicies)\n",
    "        #print(digitindicies)\n",
    "        for i in range(goal):\n",
    "            randidx = np.random.randint(0 , digitindicies.size , 2)\n",
    "            instanceX.append((Xm[digitindicies[randidx[0]], :] , Xm[digitindicies[randidx[1]] , :]))\n",
    "            instancey.append(ym[digitindicies[randidx[0]]])        \n",
    "    return instanceX , np.ones((goal * 10))\n",
    "\n",
    "def fetch_all_data(num_examples):\n",
    "    true = num_examples // 2\n",
    "    true_digit = true // 10\n",
    "    false = true\n",
    "    tx , ty = fetch_true_data(42 , true_digit)\n",
    "    fx , fy = fetch_false_data(false)\n",
    "    X = tx + fx\n",
    "    y = np.concatenate([ty , fy])\n",
    "    X = np.asarray(X)\n",
    "    perms = np.random.permutation(num_examples)\n",
    "    X = X[perms]\n",
    "    #Xa = list()\n",
    "    #Xb = list()\n",
    "    #for i in range(X.shape[0]):\n",
    "    #    for a,b in X[i] :\n",
    "    #    Xa.append(a)\n",
    "    #    Xb.append(b) \n",
    "        \n",
    "    y = y[perms]\n",
    "    return X , y\n",
    "\n",
    "X , y = fetch_all_data(55000)\n",
    "\n",
    "def get_next_batch(step , batch_size):\n",
    "    global X , y\n",
    "    start = step * batch_size\n",
    "    end = start + batch_size\n",
    "    if end > X.shape[0]:\n",
    "        start = 0\n",
    "        end = batch_size\n",
    "        perm = np.random.permutation(X.shape[0])\n",
    "        X = X[perm]\n",
    "        y = y[perm]\n",
    "    return X[start:end] , y[start:end]"
   ]
  },
  {
   "cell_type": "code",
   "execution_count": 7,
   "metadata": {},
   "outputs": [
    {
     "data": {
      "text/plain": [
       "(50, 2, 1, 784)"
      ]
     },
     "execution_count": 7,
     "metadata": {},
     "output_type": "execute_result"
    }
   ],
   "source": [
    "a,b = get_next_batch(0 , 50)\n",
    "\n",
    "a.shape"
   ]
  },
  {
   "cell_type": "code",
   "execution_count": 8,
   "metadata": {},
   "outputs": [],
   "source": [
    "n_epoch = 10\n",
    "batch_size = 50\n",
    "num_examples = 55000\n",
    "n_batches = num_examples // batch_size"
   ]
  },
  {
   "cell_type": "code",
   "execution_count": 9,
   "metadata": {},
   "outputs": [
    {
     "ename": "NameError",
     "evalue": "name 'filewriter' is not defined",
     "output_type": "error",
     "traceback": [
      "\u001b[0;31m---------------------------------------------------------------------------\u001b[0m",
      "\u001b[0;31mNameError\u001b[0m                                 Traceback (most recent call last)",
      "\u001b[0;32m<ipython-input-9-9aff6537ff30>\u001b[0m in \u001b[0;36m<module>\u001b[0;34m()\u001b[0m\n\u001b[1;32m     18\u001b[0m             \u001b[0macc_sum\u001b[0m \u001b[0;34m=\u001b[0m \u001b[0macc_summary\u001b[0m\u001b[0;34m.\u001b[0m\u001b[0meval\u001b[0m\u001b[0;34m(\u001b[0m\u001b[0mfeed_dict\u001b[0m \u001b[0;34m=\u001b[0m \u001b[0mfeed_dict\u001b[0m\u001b[0;34m)\u001b[0m\u001b[0;34m\u001b[0m\u001b[0;34m\u001b[0m\u001b[0m\n\u001b[1;32m     19\u001b[0m             \u001b[0mloss_sum\u001b[0m \u001b[0;34m=\u001b[0m \u001b[0mloss_summary\u001b[0m\u001b[0;34m.\u001b[0m\u001b[0meval\u001b[0m\u001b[0;34m(\u001b[0m\u001b[0mfeed_dict\u001b[0m \u001b[0;34m=\u001b[0m \u001b[0mfeed_dict\u001b[0m\u001b[0;34m)\u001b[0m\u001b[0;34m\u001b[0m\u001b[0;34m\u001b[0m\u001b[0m\n\u001b[0;32m---> 20\u001b[0;31m             \u001b[0mfilewriter\u001b[0m\u001b[0;34m.\u001b[0m\u001b[0madd_summary\u001b[0m\u001b[0;34m(\u001b[0m\u001b[0macc_sum\u001b[0m \u001b[0;34m,\u001b[0m \u001b[0mglobal_step\u001b[0m\u001b[0;34m)\u001b[0m\u001b[0;34m\u001b[0m\u001b[0;34m\u001b[0m\u001b[0m\n\u001b[0m\u001b[1;32m     21\u001b[0m             \u001b[0mfilewriter\u001b[0m\u001b[0;34m.\u001b[0m\u001b[0madd_summary\u001b[0m\u001b[0;34m(\u001b[0m\u001b[0mloss_sum\u001b[0m \u001b[0;34m,\u001b[0m \u001b[0mglobal_step\u001b[0m\u001b[0;34m)\u001b[0m\u001b[0;34m\u001b[0m\u001b[0;34m\u001b[0m\u001b[0m\n\u001b[1;32m     22\u001b[0m             \u001b[0;32mif\u001b[0m \u001b[0macc\u001b[0m \u001b[0;34m>\u001b[0m \u001b[0macc_pre\u001b[0m\u001b[0;34m:\u001b[0m\u001b[0;34m\u001b[0m\u001b[0;34m\u001b[0m\u001b[0m\n",
      "\u001b[0;31mNameError\u001b[0m: name 'filewriter' is not defined"
     ]
    }
   ],
   "source": [
    "acc_pre = 0\n",
    "\n",
    "nobenefitsteps = 0\n",
    "maxnobenefitsteps = 1000\n",
    "\n",
    "with tf.Session() as sess:\n",
    "    sess.run(init)\n",
    "    \n",
    "    for epoch in range(n_epoch):\n",
    "        for step in range(n_batches):\n",
    "            global_step = step + epoch * n_batches\n",
    "            Xbatch , ybatch = get_next_batch(global_step , batch_size)\n",
    "            Xa_ = Xbatch[: , 0 , 0 , :]\n",
    "            Xb_ = Xbatch[: , 1 , 0 , :]\n",
    "            feed_dict={Xa:Xa_ , Xb:Xb_ , \"y:0\":ybatch}\n",
    "            sess.run(training_op , feed_dict=feed_dict)\n",
    "            acc = sess.run(accuracy , feed_dict=feed_dict)\n",
    "            acc_sum = acc_summary.eval(feed_dict = feed_dict)\n",
    "            loss_sum = loss_summary.eval(feed_dict = feed_dict)\n",
    "            file_writer.add_summary(acc_sum , global_step)\n",
    "            file_writer.add_summary(loss_sum , global_step)\n",
    "            if acc > acc_pre:\n",
    "                acc_pre = acc\n",
    "                saver.save(sess , \"/tmp/my_best_model.ckpt\")\n",
    "            else :\n",
    "                nobenefitsteps = nobenefitsteps + 1 \n",
    "        print(\"Epoch : {} | Accuracy : {} | Best : {}\".format(epoch , acc , acc_pre))\n",
    "        if nobenefitsteps > maxnobenefitsteps:\n",
    "            print(\"Quitting , {} steps occured with no benefit\".format(nobenefitsteps))\n",
    "            break"
   ]
  },
  {
   "cell_type": "code",
   "execution_count": null,
   "metadata": {},
   "outputs": [],
   "source": []
  }
 ],
 "metadata": {
  "kernelspec": {
   "display_name": "Python 3",
   "language": "python",
   "name": "python3"
  },
  "language_info": {
   "codemirror_mode": {
    "name": "ipython",
    "version": 3
   },
   "file_extension": ".py",
   "mimetype": "text/x-python",
   "name": "python",
   "nbconvert_exporter": "python",
   "pygments_lexer": "ipython3",
   "version": "3.6.7"
  }
 },
 "nbformat": 4,
 "nbformat_minor": 2
}
