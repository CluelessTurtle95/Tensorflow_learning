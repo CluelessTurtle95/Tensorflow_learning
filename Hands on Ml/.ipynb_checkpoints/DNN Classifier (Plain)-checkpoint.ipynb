{
 "cells": [
  {
   "cell_type": "code",
   "execution_count": 1,
   "metadata": {},
   "outputs": [],
   "source": [
    "import pandas as pd\n",
    "import tensorflow as tf\n",
    "import numpy as np\n",
    "import pandas as pd\n",
    "from sklearn.preprocessing import StandardScaler\n",
    "\n",
    "scaler = StandardScaler()\n",
    "\n",
    "data = pd.read_csv(\"mnist_train.csv\")\n",
    "ytrain = data[\"label\"].values.astype(np.int)\n",
    "\n",
    "Xtrain = data.drop(columns=\"label\" , inplace=False).values\n",
    "Xtrain = scaler.fit_transform(Xtrain)\n",
    "\n",
    "\n",
    "test = pd.read_csv(\"mnist_test.csv\")\n",
    "ytest = test[\"label\"].values\n",
    "Xtest = test.drop(columns=\"label\" , inplace=False).values\n",
    "Xtest = scaler.transform(Xtest)\n",
    "\n",
    "from datetime import datetime\n",
    "now = datetime.utcnow().strftime(\"%Y%m%d%H%M%S\")\n",
    "log_dir = \"tf_logs/run-{}\".format(now)"
   ]
  },
  {
   "cell_type": "code",
   "execution_count": 2,
   "metadata": {},
   "outputs": [],
   "source": [
    "n_inputs = 28 * 28\n",
    "n_hidden1 = 300\n",
    "n_hidden2 = 100\n",
    "n_classes = 10\n",
    "\n",
    "#from tensorflow.examples.tutorials.mnist import input_data\n",
    "#mnist = input_data.read_data_sets(\"/tmp/data/\")"
   ]
  },
  {
   "cell_type": "code",
   "execution_count": 3,
   "metadata": {},
   "outputs": [],
   "source": [
    "def layer(X , n_neurons  , name , activation = None):\n",
    "    n = int(X.get_shape()[1])\n",
    "    stddev = 2/np.sqrt(n_neurons + n)\n",
    "    with tf.name_scope(name=name):\n",
    "        W = tf.Variable(tf.truncated_normal(shape=(n , n_neurons) , stddev=stddev) , name=\"W\" , dtype=tf.float32)\n",
    "        b = tf.Variable(tf.zeros( [n_neurons] ) , name=\"b\" , dtype=tf.float32)\n",
    "        z = tf.add(tf.matmul(X , W) , b)\n",
    "        if activation is not None :\n",
    "            return activation(z)\n",
    "        else :\n",
    "            return z"
   ]
  },
  {
   "cell_type": "code",
   "execution_count": 4,
   "metadata": {},
   "outputs": [
    {
     "name": "stdout",
     "output_type": "stream",
     "text": [
      "WARNING:tensorflow:From <ipython-input-4-f8f87b3f6295>:7: dense (from tensorflow.python.layers.core) is deprecated and will be removed in a future version.\n",
      "Instructions for updating:\n",
      "Use keras.layers.dense instead.\n",
      "WARNING:tensorflow:From /usr/local/lib/python3.6/dist-packages/tensorflow/python/framework/op_def_library.py:263: colocate_with (from tensorflow.python.framework.ops) is deprecated and will be removed in a future version.\n",
      "Instructions for updating:\n",
      "Colocations handled automatically by placer.\n"
     ]
    }
   ],
   "source": [
    "X = tf.placeholder(tf.float32 , shape=(None , n_inputs) , name=\"X\")\n",
    "y = tf.placeholder(tf.int64 , shape=(None) , name=\"y\")\n",
    "\n",
    "he_init = tf.variance_scaling_initializer()\n",
    "\n",
    "with tf.name_scope(\"DNN\") :\n",
    "    hidden1 = tf.layers.dense(X , n_hidden1 , activation=tf.nn.elu , name=\"hidden1\"  , kernel_initializer=he_init) # can be repaced with tf.layers.dense\n",
    "    hidden2 = tf.layers.dense(hidden1 , n_hidden2 , activation=tf.nn.elu , name=\"hidden2\" , kernel_initializer=he_init)\n",
    "    logits = tf.layers.dense(hidden2 , n_classes , name=\"outputs\" )\n",
    "    \n",
    "with tf.name_scope(\"loss\") :\n",
    "    xentropy = tf.nn.sparse_softmax_cross_entropy_with_logits(labels=y , logits=logits)\n",
    "    loss = tf.reduce_mean(xentropy , name=\"Loss\")\n",
    "\n",
    "with tf.name_scope(\"Records\") :\n",
    "    loss_summary = tf.summary.scalar(\"Loss_sum\" , loss)\n",
    "    file_writer = tf.summary.FileWriter(log_dir , tf.get_default_graph())\n",
    "    \n",
    "    \n",
    "lr = 0.01\n",
    "with tf.name_scope(\"train\") :\n",
    "    optimizer = tf.train.GradientDescentOptimizer(learning_rate=lr)\n",
    "    training_op = optimizer.minimize(loss)\n",
    "    \n",
    "with tf.name_scope(\"eval\"):\n",
    "    correct = tf.nn.in_top_k(logits , y , 1)\n",
    "    accuracy = tf.reduce_mean(tf.cast(correct , dtype=tf.float32))\n",
    "    \n",
    "init = tf.global_variables_initializer()"
   ]
  },
  {
   "cell_type": "code",
   "execution_count": null,
   "metadata": {},
   "outputs": [],
   "source": [
    "def fetch_data(step , batch_size , n_batches , Xm , ym , perms):\n",
    "    \n",
    "    starting = step * batch_size\n",
    "    indicies = perms[ starting:starting+batch_size]\n",
    "    return Xm[indicies , :] , ym[indicies].reshape(-1)"
   ]
  },
  {
   "cell_type": "code",
   "execution_count": null,
   "metadata": {},
   "outputs": [],
   "source": [
    "n_epoch = 10\n",
    "n_batches = 100\n",
    "batch_size = 50\n",
    "perms = np.random.permutation(batch_size * n_batches)\n",
    "\n",
    "with tf.Session() as sess: \n",
    "    sess.run(init)\n",
    "    \n",
    "    for epoch in range(n_epoch):\n",
    "        for step in range(n_batches):\n",
    "            #indicies = perms[ step*batch_size:step*batch_size+batch_size]\n",
    "            Xbatch , ybatch = Xtrain[step*batch_size:step*batch_size+batch_size , :] , ytrain[step*batch_size:step*batch_size+batch_size].reshape(-1)\n",
    "            sess.run(training_op , feed_dict={X:Xbatch , y:ybatch})\n",
    "            sum_ = loss_summary.eval(feed_dict={X:Xtrain , y:ytrain})\n",
    "            file_writer.add_summary(sum_ , step + epoch * n_batches)\n",
    "        \n",
    "        acc_train = sess.run(accuracy , feed_dict={X:Xtrain , y:ytrain})\n",
    "        print(\"Epoch : {} Train_acc : {} \".format(epoch , acc_train))"
   ]
  },
  {
   "cell_type": "code",
   "execution_count": null,
   "metadata": {},
   "outputs": [],
   "source": []
  }
 ],
 "metadata": {
  "kernelspec": {
   "display_name": "Python 3",
   "language": "python",
   "name": "python3"
  },
  "language_info": {
   "codemirror_mode": {
    "name": "ipython",
    "version": 3
   },
   "file_extension": ".py",
   "mimetype": "text/x-python",
   "name": "python",
   "nbconvert_exporter": "python",
   "pygments_lexer": "ipython3",
   "version": "3.6.7"
  }
 },
 "nbformat": 4,
 "nbformat_minor": 2
}
