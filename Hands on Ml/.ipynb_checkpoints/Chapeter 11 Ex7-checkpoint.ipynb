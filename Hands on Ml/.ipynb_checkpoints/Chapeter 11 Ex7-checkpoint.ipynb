{
 "cells": [
  {
   "cell_type": "code",
   "execution_count": 1,
   "metadata": {},
   "outputs": [],
   "source": [
    "import tensorflow as tf\n",
    "import numpy as np"
   ]
  },
  {
   "cell_type": "code",
   "execution_count": 2,
   "metadata": {},
   "outputs": [
    {
     "name": "stdout",
     "output_type": "stream",
     "text": [
      "WARNING:tensorflow:From <ipython-input-2-c50d5bb4a85c>:2: read_data_sets (from tensorflow.contrib.learn.python.learn.datasets.mnist) is deprecated and will be removed in a future version.\n",
      "Instructions for updating:\n",
      "Please use alternatives such as official/mnist/dataset.py from tensorflow/models.\n",
      "WARNING:tensorflow:From /usr/local/lib/python3.6/dist-packages/tensorflow/contrib/learn/python/learn/datasets/mnist.py:260: maybe_download (from tensorflow.contrib.learn.python.learn.datasets.base) is deprecated and will be removed in a future version.\n",
      "Instructions for updating:\n",
      "Please write your own downloading logic.\n",
      "WARNING:tensorflow:From /usr/local/lib/python3.6/dist-packages/tensorflow/contrib/learn/python/learn/datasets/mnist.py:262: extract_images (from tensorflow.contrib.learn.python.learn.datasets.mnist) is deprecated and will be removed in a future version.\n",
      "Instructions for updating:\n",
      "Please use tf.data to implement this functionality.\n",
      "Extracting /tmp/data/train-images-idx3-ubyte.gz\n",
      "WARNING:tensorflow:From /usr/local/lib/python3.6/dist-packages/tensorflow/contrib/learn/python/learn/datasets/mnist.py:267: extract_labels (from tensorflow.contrib.learn.python.learn.datasets.mnist) is deprecated and will be removed in a future version.\n",
      "Instructions for updating:\n",
      "Please use tf.data to implement this functionality.\n",
      "Extracting /tmp/data/train-labels-idx1-ubyte.gz\n",
      "Extracting /tmp/data/t10k-images-idx3-ubyte.gz\n",
      "Extracting /tmp/data/t10k-labels-idx1-ubyte.gz\n",
      "WARNING:tensorflow:From /usr/local/lib/python3.6/dist-packages/tensorflow/contrib/learn/python/learn/datasets/mnist.py:290: DataSet.__init__ (from tensorflow.contrib.learn.python.learn.datasets.mnist) is deprecated and will be removed in a future version.\n",
      "Instructions for updating:\n",
      "Please use alternatives such as official/mnist/dataset.py from tensorflow/models.\n"
     ]
    }
   ],
   "source": [
    "from tensorflow.examples.tutorials.mnist import input_data\n",
    "mnist = input_data.read_data_sets(\"/tmp/data/\")"
   ]
  },
  {
   "cell_type": "code",
   "execution_count": 3,
   "metadata": {},
   "outputs": [],
   "source": [
    "from datetime import datetime\n",
    "\n",
    "now = datetime.utcnow().strftime(\"%Y%m%d%H%M%S\")\n",
    "log_dir = \"tf_logs/run-{}\".format(now)"
   ]
  },
  {
   "cell_type": "code",
   "execution_count": 4,
   "metadata": {},
   "outputs": [
    {
     "data": {
      "text/plain": [
       "<matplotlib.image.AxesImage at 0x7fe166311898>"
      ]
     },
     "execution_count": 4,
     "metadata": {},
     "output_type": "execute_result"
    }
   ],
   "source": [
    "import matplotlib.pyplot as plt\n",
    "\n",
    "plt.imshow(mnist.train.images[0].reshape(28,28))"
   ]
  },
  {
   "cell_type": "code",
   "execution_count": 5,
   "metadata": {},
   "outputs": [
    {
     "data": {
      "text/plain": [
       "7"
      ]
     },
     "execution_count": 5,
     "metadata": {},
     "output_type": "execute_result"
    }
   ],
   "source": [
    "mnist.train.labels[0]"
   ]
  },
  {
   "cell_type": "code",
   "execution_count": 6,
   "metadata": {},
   "outputs": [],
   "source": [
    "n_inputs = 784\n",
    "n_outputs = 5\n",
    "hidden_size = 100\n",
    "hidden_num = 5"
   ]
  },
  {
   "cell_type": "code",
   "execution_count": 7,
   "metadata": {},
   "outputs": [],
   "source": [
    "he_init = tf.variance_scaling_initializer()\n",
    "\n",
    "def addHiddenLayers(X , hidden_size , hidden_num ):\n",
    "    hidden = list()\n",
    "    with tf.name_scope(\"hidden1\"):\n",
    "        hidden.append(tf.layers.dense(X , hidden_size , activation=tf.nn.elu , kernel_initializer=he_init))\n",
    "    for i in range(hidden_num-1):\n",
    "        with tf.name_scope(\"hidden{}\".format(i)):\n",
    "            hidden.append(tf.layers.dense( hidden[i] , hidden_size , activation=tf.nn.elu , kernel_initializer=he_init))\n",
    "    return hidden[hidden_num - 1]\n",
    "        "
   ]
  },
  {
   "cell_type": "code",
   "execution_count": 8,
   "metadata": {},
   "outputs": [
    {
     "name": "stdout",
     "output_type": "stream",
     "text": [
      "WARNING:tensorflow:From <ipython-input-7-94916b2e7f6d>:6: dense (from tensorflow.python.layers.core) is deprecated and will be removed in a future version.\n",
      "Instructions for updating:\n",
      "Use keras.layers.dense instead.\n",
      "WARNING:tensorflow:From /usr/local/lib/python3.6/dist-packages/tensorflow/python/framework/op_def_library.py:263: colocate_with (from tensorflow.python.framework.ops) is deprecated and will be removed in a future version.\n",
      "Instructions for updating:\n",
      "Colocations handled automatically by placer.\n"
     ]
    }
   ],
   "source": [
    "X = tf.placeholder(tf.float32 , shape=(None , n_inputs) , name=\"X\")\n",
    "y = tf.placeholder(tf.int64 , shape=(None) , name=\"y\")\n",
    "\n",
    "with tf.name_scope(\"DNN\"):\n",
    "    hiddenLast = addHiddenLayers(X=X , hidden_size=hidden_size , hidden_num=hidden_num)\n",
    "    logits = tf.layers.dense(hiddenLast , n_outputs , activation=None )\n",
    "\n",
    "with tf.name_scope(\"Loss\"):\n",
    "    xentropy = tf.nn.sparse_softmax_cross_entropy_with_logits(labels=y , logits=logits)\n",
    "    loss = tf.reduce_mean(xentropy)\n",
    "    \n",
    "with tf.name_scope(\"Eval\"):\n",
    "    correct = tf.math.in_top_k(logits , y , 1)\n",
    "    accuracy = tf.reduce_mean(tf.cast(correct , tf.float64))\n",
    "\n",
    "with tf.name_scope(\"Summary\"):\n",
    "    loss_summary = tf.summary.scalar(\"loss_sum\" , loss)\n",
    "    acc_summary = tf.summary.scalar(\"acc_sum\" , accuracy)\n",
    "    file_writer = tf.summary.FileWriter(log_dir , tf.get_default_graph())\n",
    "\n",
    "optimizer = tf.train.AdamOptimizer(learning_rate=0.01)\n",
    "training_op = optimizer.minimize(loss)\n",
    "\n",
    "init = tf.global_variables_initializer()\n",
    "\n",
    "saver = tf.train.Saver()"
   ]
  },
  {
   "cell_type": "code",
   "execution_count": 9,
   "metadata": {},
   "outputs": [
    {
     "data": {
      "text/plain": [
       "(28038, 784)"
      ]
     },
     "execution_count": 9,
     "metadata": {},
     "output_type": "execute_result"
    }
   ],
   "source": [
    "train_zero_four_indicies = mnist.train.labels < 5\n",
    "\n",
    "ytrain05 = mnist.train.labels[train_zero_four_indicies]\n",
    "Xtrain05 = mnist.train.images[train_zero_four_indicies]\n",
    "\n",
    "Xtrain05.shape"
   ]
  },
  {
   "cell_type": "code",
   "execution_count": 10,
   "metadata": {},
   "outputs": [],
   "source": [
    "Xm = Xtrain05.copy()\n",
    "ym = ytrain05.copy()\n",
    "\n",
    "def next_batch(step , batch_size):\n",
    "    global Xm , ym\n",
    "    start = step * batch_size\n",
    "    end = start + batch_size\n",
    "    if end > Xtrain05.shape[0]:\n",
    "        start = 0\n",
    "        end = batch_size\n",
    "        perm = np.random.permutation(Xtrain05.shape[0])\n",
    "        Xm = Xm[perm]\n",
    "        ym = ym[perm]\n",
    "    return Xm[start:end] , ym[start:end]\n",
    "\n",
    "val_zero_four_indicies = mnist.validation.labels < 5\n",
    "Xval , yval = mnist.validation.images[val_zero_four_indicies] , mnist.validation.labels[val_zero_four_indicies]\n",
    "\n",
    "test_zero_four_indicies = mnist.test.labels < 5\n",
    "Xtest , ytest = mnist.test.images[test_zero_four_indicies] , mnist.test.labels[test_zero_four_indicies]"
   ]
  },
  {
   "cell_type": "code",
   "execution_count": 11,
   "metadata": {},
   "outputs": [],
   "source": [
    "n_epochs = 100\n",
    "batch_size = 50\n",
    "n_batches = Xtrain05.shape[0] // batch_size"
   ]
  },
  {
   "cell_type": "code",
   "execution_count": 12,
   "metadata": {},
   "outputs": [
    {
     "name": "stdout",
     "output_type": "stream",
     "text": [
      "Epoch : 0 | Validation Accuracy : 0.9738076622361219 | Best Accuracy Yet : 0.9788897576231431\n",
      "Epoch : 1 | Validation Accuracy : 0.9812353401094606 | Best Accuracy Yet : 0.9867083659108679\n",
      "Epoch : 2 | Validation Accuracy : 0.9808444096950742 | Best Accuracy Yet : 0.9874902267396404\n",
      "Epoch : 3 | Validation Accuracy : 0.9788897576231431 | Best Accuracy Yet : 0.9913995308835027\n",
      "Epoch : 4 | Validation Accuracy : 0.7830336200156373 | Best Accuracy Yet : 0.9913995308835027\n",
      "Epoch : 5 | Validation Accuracy : 0.7959343236903831 | Best Accuracy Yet : 0.9913995308835027\n",
      "Epoch : 6 | Validation Accuracy : 0.9726348709929633 | Best Accuracy Yet : 0.9913995308835027\n",
      "Epoch : 7 | Validation Accuracy : 0.883893666927287 | Best Accuracy Yet : 0.9913995308835027\n",
      "Epoch : 8 | Validation Accuracy : 0.9781078967943706 | Best Accuracy Yet : 0.9913995308835027\n",
      "Epoch : 9 | Validation Accuracy : 0.9620797498045348 | Best Accuracy Yet : 0.9913995308835027\n",
      "Quitting , 6 epoch's trained with no benefits\n"
     ]
    }
   ],
   "source": [
    "with tf.Session() as sess:\n",
    "    sess.run(init)\n",
    "    acc_val = 0\n",
    "    acc_pre = 0\n",
    "    counter = 0\n",
    "    epoch_with_no_benefits = 0\n",
    "    for epoch in range(n_epochs):\n",
    "        acc_pre_epoch = acc_pre\n",
    "        for step in range(n_batches):\n",
    "            global_step = step + epoch * n_batches\n",
    "            Xbatch , ybatch = next_batch(global_step , batch_size)\n",
    "            sess.run(training_op , feed_dict={X:Xbatch , y:ybatch})\n",
    "            \n",
    "            Ls = loss_summary.eval(feed_dict={X:Xbatch , y:ybatch})\n",
    "            As = acc_summary.eval(feed_dict={X:Xbatch , y:ybatch})\n",
    "            file_writer.add_summary(Ls , global_step)\n",
    "            file_writer.add_summary(As , global_step)\n",
    "            if step % 5 == 0:\n",
    "                acc_val = sess.run(accuracy , feed_dict={X:Xval , y:yval})\n",
    "                if acc_val > acc_pre:\n",
    "                    acc_pre = acc_val\n",
    "                    saver.save(sess , \"/tmp/Ch11Ex7.ckpt\")\n",
    "        if acc_pre == acc_pre_epoch:\n",
    "            epoch_with_no_benefits = epoch_with_no_benefits + 1\n",
    "        else :\n",
    "            epoch_with_no_benefits = 0\n",
    "        print(\"Epoch : {} | Validation Accuracy : {} | Best Accuracy Yet : {}\".format(epoch , acc_val , acc_pre))\n",
    "        if epoch_with_no_benefits > 5:\n",
    "            print(\"Quitting , {} epoch's trained with no benefits\".format(epoch_with_no_benefits))\n",
    "            break"
   ]
  },
  {
   "cell_type": "code",
   "execution_count": 13,
   "metadata": {},
   "outputs": [
    {
     "name": "stdout",
     "output_type": "stream",
     "text": [
      "WARNING:tensorflow:From /usr/local/lib/python3.6/dist-packages/tensorflow/python/training/saver.py:1266: checkpoint_exists (from tensorflow.python.training.checkpoint_management) is deprecated and will be removed in a future version.\n",
      "Instructions for updating:\n",
      "Use standard file APIs to check for files with this prefix.\n",
      "INFO:tensorflow:Restoring parameters from /tmp/Ch11Ex7.ckpt\n",
      "Test Accuracy : 0.9916326133489005\n",
      "Model Saved with new name !\n"
     ]
    }
   ],
   "source": [
    "with tf.Session() as sess:\n",
    "    saver.restore(sess , \"/tmp/Ch11Ex7.ckpt\")\n",
    "    acc = sess.run(accuracy , feed_dict={X:Xtest , y:ytest})\n",
    "    saver.save(sess , \"/tmp/Ch11Ex7{}.ckpt\".format(acc))\n",
    "    print(\"Test Accuracy : {}\".format(acc))\n",
    "    print(\"Model Saved with new name !\")"
   ]
  },
  {
   "cell_type": "code",
   "execution_count": null,
   "metadata": {},
   "outputs": [],
   "source": []
  }
 ],
 "metadata": {
  "kernelspec": {
   "display_name": "Python 3",
   "language": "python",
   "name": "python3"
  },
  "language_info": {
   "codemirror_mode": {
    "name": "ipython",
    "version": 3
   },
   "file_extension": ".py",
   "mimetype": "text/x-python",
   "name": "python",
   "nbconvert_exporter": "python",
   "pygments_lexer": "ipython3",
   "version": "3.6.7"
  }
 },
 "nbformat": 4,
 "nbformat_minor": 2
}
