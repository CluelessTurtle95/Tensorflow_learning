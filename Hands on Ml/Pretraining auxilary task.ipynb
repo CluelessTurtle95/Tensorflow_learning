{
 "cells": [
  {
   "cell_type": "code",
   "execution_count": 1,
   "metadata": {},
   "outputs": [],
   "source": [
    "import tensorflow as tf\n",
    "import numpy as np\n",
    "\n",
    "from datetime import datetime\n",
    "now = datetime.utcnow().strftime(\"%Y%m%d%H%M%S\")\n",
    "log_dir = \"tf_logs/run-{}\".format(now)"
   ]
  },
  {
   "cell_type": "code",
   "execution_count": 2,
   "metadata": {},
   "outputs": [],
   "source": [
    "he_init = tf.variance_scaling_initializer()\n",
    "\n",
    "def create_dnn(X , n_hidden , hidden_size , name , training):\n",
    "    inputs = X\n",
    "    with tf.variable_scope(name):\n",
    "        for i in range(n_hidden):\n",
    "            inputs = tf.layers.dense(inputs , hidden_size, kernel_initializer=he_init , name=\"hidden{}\".format(i+1) , \n",
    "                                     kernel_regularizer=tf.contrib.layers.l2_regularizer(0.0))\n",
    "            inputs = tf.layers.batch_normalization(inputs , momentum=0.9 , training=training)\n",
    "            inputs = tf.nn.elu(inputs)\n",
    "    return inputs"
   ]
  },
  {
   "cell_type": "code",
   "execution_count": 24,
   "metadata": {},
   "outputs": [
    {
     "name": "stdout",
     "output_type": "stream",
     "text": [
      "INFO:tensorflow:Scale of 0 disables regularizer.\n",
      "INFO:tensorflow:Scale of 0 disables regularizer.\n",
      "INFO:tensorflow:Scale of 0 disables regularizer.\n",
      "INFO:tensorflow:Scale of 0 disables regularizer.\n",
      "INFO:tensorflow:Scale of 0 disables regularizer.\n",
      "INFO:tensorflow:Scale of 0 disables regularizer.\n",
      "INFO:tensorflow:Scale of 0 disables regularizer.\n",
      "INFO:tensorflow:Scale of 0 disables regularizer.\n",
      "INFO:tensorflow:Scale of 0 disables regularizer.\n",
      "INFO:tensorflow:Scale of 0 disables regularizer.\n",
      "INFO:tensorflow:Scale of 0 disables regularizer.\n",
      "INFO:tensorflow:Scale of 0 disables regularizer.\n",
      "INFO:tensorflow:Scale of 0 disables regularizer.\n",
      "INFO:tensorflow:Scale of 0 disables regularizer.\n",
      "INFO:tensorflow:Scale of 0 disables regularizer.\n",
      "INFO:tensorflow:Scale of 0 disables regularizer.\n"
     ]
    }
   ],
   "source": [
    "tf.reset_default_graph()\n",
    "\n",
    "Xa = tf.placeholder(tf.float32 , shape=(None , 784) , name=\"Xa\")\n",
    "Xb = tf.placeholder(tf.float32 , shape=(None , 784) , name=\"Xb\")\n",
    "#X = tf.placeholder(tf.float32 , shape=(None  , 2 , 784) , name=\"X\")\n",
    "#Xa , Xb = tf.unstack(X , axis = 1)\n",
    "\n",
    "Y = tf.placeholder(tf.int32 , shape=(None) , name=\"y\")\n",
    "scale = 0.00\n",
    "training = tf.placeholder_with_default(False , shape=())\n",
    "\n",
    "dnn_a = create_dnn(Xa , 5 , 100 , \"DNN_A\" , training)\n",
    "dnn_b = create_dnn(Xb , 5 , 100 , \"DNN_B\" , training)\n",
    "\n",
    "with tf.name_scope(\"Merge\"):\n",
    "    combo = tf.concat([dnn_a , dnn_b] , axis=1)\n",
    "    hiddenlast = tf.layers.dense(combo , 10 , kernel_initializer=he_init , name=\"hiddenLast\" , kernel_regularizer=tf.contrib.layers.l2_regularizer(scale=scale))\n",
    "    batchLast = tf.layers.batch_normalization(hiddenlast , momentum=0.9 , training=training)\n",
    "    #batchLast = hiddenlast\n",
    "    eluLast = tf.nn.elu(batchLast)\n",
    "    output = tf.layers.dense(eluLast , 1 , name=\"output\" , kernel_initializer=he_init , kernel_regularizer=tf.contrib.layers.l2_regularizer(scale))\n",
    "\n",
    "y_proba = tf.nn.sigmoid(output)\n",
    "\n",
    "#baseloss = tf.reduce_mean(tf.square(tf.cast(Y,tf.float32) - y_proba))\n",
    "baseloss = tf.nn.sigmoid_cross_entropy_with_logits(labels=tf.cast(Y , tf.float32) , logits=output)\n",
    "baseloss = tf.reduce_mean(baseloss)\n",
    "#baseloss = tf.losses.log_loss(tf.cast(Y , tf.float32), y_proba)\n",
    "\n",
    "loss = tf.add_n([baseloss] + tf.get_collection(tf.GraphKeys.REGULARIZATION_LOSSES))\n",
    "\n",
    "prediction = tf.cast(tf.greater_equal(output, 0), tf.int32)\n",
    "#prediction = tf.cast(tf.greater(y_proba , 0.5 , name=\"prediction\") , tf.int64)\n",
    "accuracy = tf.reduce_mean(tf.cast( tf.equal(prediction, Y), tf.float32) , name=\"accuracy\")\n",
    "\n",
    "acc_summary = tf.summary.scalar(\"Accuracy\" , accuracy)\n",
    "loss_summary = tf.summary.scalar(\"Loss\" , baseloss)\n",
    "\n",
    "file_writer = tf.summary.FileWriter(log_dir , tf.get_default_graph())\n",
    "\n",
    "#optimizer = tf.train.AdamOptimizer(0.00001)\n",
    "optimizer = tf.train.MomentumOptimizer( 0.001 , momentum=0.95 , use_nesterov=True)\n",
    "training_op = optimizer.minimize(loss)\n",
    "\n",
    "init = tf.global_variables_initializer()\n",
    "\n",
    "saver = tf.train.Saver()"
   ]
  },
  {
   "cell_type": "code",
   "execution_count": 6,
   "metadata": {},
   "outputs": [],
   "source": [
    "#from tensorflow.examples.tutorials.mnist import input_data\n",
    "#mnist = input_data.read_data_sets(\"/tmp/data\")"
   ]
  },
  {
   "cell_type": "code",
   "execution_count": 4,
   "metadata": {},
   "outputs": [],
   "source": [
    "#Xt1 = mnist.train.images[:55000]\n",
    "#yt1 = mnist.train.labels[:55000]\n",
    "\n",
    "import pandas as pd\n",
    "\n",
    "data = pd.read_csv(\"mnist_train.csv\")\n",
    "\n",
    "data.head()\n",
    "Xt1 = data.drop(columns=\"label\").values\n",
    "yt1 = data[\"label\"].values"
   ]
  },
  {
   "cell_type": "code",
   "execution_count": 5,
   "metadata": {},
   "outputs": [],
   "source": [
    "Xm = Xt1[:55000].copy()\n",
    "ym = yt1[:55000].copy()"
   ]
  },
  {
   "cell_type": "code",
   "execution_count": 6,
   "metadata": {},
   "outputs": [],
   "source": [
    "def next_batch(step , batch_size):\n",
    "    global Xm , ym\n",
    "    start = step * batch_size\n",
    "    end = start + batch_size\n",
    "    if end > Xt1.shape[0]:\n",
    "        start = 0\n",
    "        end = batch_size\n",
    "        perm = np.random.permutation(Xt1.shape[0])\n",
    "        Xm = Xm[perm]\n",
    "        ym = ym[perm]\n",
    "    return Xm[start:end] , ym[start:end]\n",
    "\n",
    "def fetch_data(step , batch_size):\n",
    "    b1 = next_batch(step , batch_size)\n",
    "    b2 = next_batch(step + 1, batch_size)\n",
    "    X , y = (b1[0] , b2[0]) , b1[1] == b2[1]\n",
    "    return X , y\n",
    "\n",
    "def fetch_false_data(goal):\n",
    "    LabelData = list()\n",
    "    current = 0\n",
    "    step = 0\n",
    "    while current < goal:\n",
    "        data = fetch_data(step , 1)\n",
    "        step = step + 1\n",
    "        if data[1] == False:\n",
    "            LabelData.append(data[0])\n",
    "            current = current + 1\n",
    "    return LabelData , np.zeros((goal))\n",
    "           \n",
    "def fetch_true_data(seed , goal):\n",
    "    np.random.seed(seed)\n",
    "    instanceX = list()\n",
    "    instancey = list()\n",
    "    for i in range(10): # for every digit\n",
    "        digitindicies = (ym == i)\n",
    "        digitindicies = np.argwhere(digitindicies)\n",
    "        #print(digitindicies)\n",
    "        for i in range(goal):\n",
    "            randidx = np.random.randint(0 , digitindicies.size , 2)\n",
    "            instanceX.append((Xm[digitindicies[randidx[0]], :] , Xm[digitindicies[randidx[1]] , :]))\n",
    "            instancey.append(ym[digitindicies[randidx[0]]])        \n",
    "    return instanceX , np.ones((goal * 10))\n",
    "\n",
    "def fetch_all_data(num_examples):\n",
    "    true = num_examples // 2\n",
    "    true_digit = true // 10\n",
    "    false = true\n",
    "    tx , ty = fetch_true_data(42 , true_digit)\n",
    "    fx , fy = fetch_false_data(false)\n",
    "    X = tx + fx\n",
    "    y = np.concatenate([ty , fy])\n",
    "    X = np.asarray(X)\n",
    "    perms = np.random.permutation(num_examples)\n",
    "    X = X[perms]\n",
    "    y = y[perms]\n",
    "    return X , y"
   ]
  },
  {
   "cell_type": "code",
   "execution_count": 7,
   "metadata": {},
   "outputs": [],
   "source": [
    "# coppied from hands on ml\n",
    "\n",
    "def generate_batch(images, labels, batch_size):\n",
    "    size1 = batch_size // 2\n",
    "    size2 = batch_size - size1\n",
    "    if size1 != size2 and np.random.rand() > 0.5:\n",
    "        size1, size2 = size2, size1\n",
    "    X = []\n",
    "    y = []\n",
    "    while len(X) < size1:\n",
    "        rnd_idx1, rnd_idx2 = np.random.randint(0, len(images), 2)\n",
    "        if rnd_idx1 != rnd_idx2 and labels[rnd_idx1] == labels[rnd_idx2]:\n",
    "            X.append(np.array([images[rnd_idx1], images[rnd_idx2]]))\n",
    "            y.append([1])\n",
    "    while len(X) < batch_size:\n",
    "        rnd_idx1, rnd_idx2 = np.random.randint(0, len(images), 2)\n",
    "        if labels[rnd_idx1] != labels[rnd_idx2]:\n",
    "            X.append(np.array([images[rnd_idx1], images[rnd_idx2]]))\n",
    "            y.append([0])\n",
    "    rnd_indices = np.random.permutation(batch_size)\n",
    "    return np.array(X)[rnd_indices], np.array(y)[rnd_indices]"
   ]
  },
  {
   "cell_type": "code",
   "execution_count": 8,
   "metadata": {},
   "outputs": [],
   "source": [
    "X , y = fetch_all_data(55000)\n",
    "subterm = 0"
   ]
  },
  {
   "cell_type": "code",
   "execution_count": 9,
   "metadata": {},
   "outputs": [],
   "source": [
    "def get_next_batch(step , batch_size):\n",
    "    global X , y , subterm\n",
    "    start = step * batch_size\n",
    "    end = start + batch_size\n",
    "    start = start - subterm\n",
    "    end = end - subterm\n",
    "    if end > X.shape[0]:\n",
    "        start = 0\n",
    "        end = batch_size\n",
    "        perm = np.random.permutation(X.shape[0])\n",
    "        X = X[perm]\n",
    "        y = y[perm]\n",
    "        subterm = subterm + X.shape[0]\n",
    "    return X[start:end] , y[start:end]"
   ]
  },
  {
   "cell_type": "code",
   "execution_count": 10,
   "metadata": {},
   "outputs": [
    {
     "data": {
      "text/plain": [
       "110"
      ]
     },
     "execution_count": 10,
     "metadata": {},
     "output_type": "execute_result"
    }
   ],
   "source": [
    "n_epoch = 100\n",
    "batch_size = 500\n",
    "num_examples = 55000\n",
    "n_batches = num_examples // batch_size\n",
    "\n",
    "n_batches"
   ]
  },
  {
   "cell_type": "code",
   "execution_count": 25,
   "metadata": {},
   "outputs": [
    {
     "name": "stdout",
     "output_type": "stream",
     "text": [
      "Epoch : 0 | Accuracy : nan | Best : 0\n",
      "Epoch : 1 | Accuracy : nan | Best : 0\n",
      "Epoch : 2 | Accuracy : nan | Best : 0\n",
      "Epoch : 3 | Accuracy : nan | Best : 0\n",
      "Epoch : 4 | Accuracy : nan | Best : 0\n",
      "Epoch : 5 | Accuracy : nan | Best : 0.5920000076293945\n",
      "Epoch : 6 | Accuracy : 0.492000013589859 | Best : 0.5920000076293945\n",
      "Epoch : 7 | Accuracy : 0.515999972820282 | Best : 0.5920000076293945\n",
      "Epoch : 8 | Accuracy : 0.5659999847412109 | Best : 0.5920000076293945\n",
      "Epoch : 9 | Accuracy : 0.47999998927116394 | Best : 0.5920000076293945\n",
      "Epoch : 10 | Accuracy : 0.5239999890327454 | Best : 0.5920000076293945\n",
      "Epoch : 11 | Accuracy : 0.5120000243186951 | Best : 0.5920000076293945\n"
     ]
    },
    {
     "ename": "KeyboardInterrupt",
     "evalue": "",
     "output_type": "error",
     "traceback": [
      "\u001b[0;31m---------------------------------------------------------------------------\u001b[0m",
      "\u001b[0;31mKeyboardInterrupt\u001b[0m                         Traceback (most recent call last)",
      "\u001b[0;32m<ipython-input-25-c71ed84e4b19>\u001b[0m in \u001b[0;36m<module>\u001b[0;34m()\u001b[0m\n\u001b[1;32m     20\u001b[0m             \u001b[0msess\u001b[0m\u001b[0;34m.\u001b[0m\u001b[0mrun\u001b[0m\u001b[0;34m(\u001b[0m\u001b[0mtraining_op\u001b[0m \u001b[0;34m,\u001b[0m \u001b[0mfeed_dict\u001b[0m\u001b[0;34m=\u001b[0m\u001b[0mfeed_dict\u001b[0m\u001b[0;34m)\u001b[0m\u001b[0;34m\u001b[0m\u001b[0;34m\u001b[0m\u001b[0m\n\u001b[1;32m     21\u001b[0m             \u001b[0macc\u001b[0m \u001b[0;34m=\u001b[0m \u001b[0msess\u001b[0m\u001b[0;34m.\u001b[0m\u001b[0mrun\u001b[0m\u001b[0;34m(\u001b[0m\u001b[0maccuracy\u001b[0m \u001b[0;34m,\u001b[0m \u001b[0mfeed_dict\u001b[0m\u001b[0;34m=\u001b[0m\u001b[0;34m{\u001b[0m\u001b[0mXa\u001b[0m\u001b[0;34m:\u001b[0m\u001b[0mXa_\u001b[0m \u001b[0;34m,\u001b[0m \u001b[0mXb\u001b[0m\u001b[0;34m:\u001b[0m\u001b[0mXb_\u001b[0m\u001b[0;34m,\u001b[0m \u001b[0;34m\"y:0\"\u001b[0m\u001b[0;34m:\u001b[0m\u001b[0mybatch\u001b[0m \u001b[0;34m,\u001b[0m \u001b[0mtraining\u001b[0m\u001b[0;34m:\u001b[0m\u001b[0;32mFalse\u001b[0m\u001b[0;34m}\u001b[0m\u001b[0;34m)\u001b[0m\u001b[0;34m\u001b[0m\u001b[0;34m\u001b[0m\u001b[0m\n\u001b[0;32m---> 22\u001b[0;31m             \u001b[0macc_sum\u001b[0m \u001b[0;34m=\u001b[0m \u001b[0macc_summary\u001b[0m\u001b[0;34m.\u001b[0m\u001b[0meval\u001b[0m\u001b[0;34m(\u001b[0m\u001b[0mfeed_dict\u001b[0m \u001b[0;34m=\u001b[0m \u001b[0;34m{\u001b[0m\u001b[0mXa\u001b[0m\u001b[0;34m:\u001b[0m\u001b[0mXa_\u001b[0m \u001b[0;34m,\u001b[0m \u001b[0mXb\u001b[0m\u001b[0;34m:\u001b[0m\u001b[0mXb_\u001b[0m \u001b[0;34m,\u001b[0m \u001b[0;34m\"y:0\"\u001b[0m\u001b[0;34m:\u001b[0m\u001b[0mybatch\u001b[0m \u001b[0;34m,\u001b[0m \u001b[0mtraining\u001b[0m\u001b[0;34m:\u001b[0m\u001b[0;32mFalse\u001b[0m\u001b[0;34m}\u001b[0m\u001b[0;34m)\u001b[0m\u001b[0;34m\u001b[0m\u001b[0;34m\u001b[0m\u001b[0m\n\u001b[0m\u001b[1;32m     23\u001b[0m \u001b[0;34m\u001b[0m\u001b[0m\n\u001b[1;32m     24\u001b[0m             \u001b[0;31m#loss_sum = loss_summary.eval(feed_dict = {Xa:Xa_ , Xb:Xb_ , \"y:0\":ybatch , training:False})\u001b[0m\u001b[0;34m\u001b[0m\u001b[0;34m\u001b[0m\u001b[0;34m\u001b[0m\u001b[0m\n",
      "\u001b[0;32m/usr/local/lib/python3.6/dist-packages/tensorflow/python/framework/ops.py\u001b[0m in \u001b[0;36meval\u001b[0;34m(self, feed_dict, session)\u001b[0m\n\u001b[1;32m    693\u001b[0m \u001b[0;34m\u001b[0m\u001b[0m\n\u001b[1;32m    694\u001b[0m     \"\"\"\n\u001b[0;32m--> 695\u001b[0;31m     \u001b[0;32mreturn\u001b[0m \u001b[0m_eval_using_default_session\u001b[0m\u001b[0;34m(\u001b[0m\u001b[0mself\u001b[0m\u001b[0;34m,\u001b[0m \u001b[0mfeed_dict\u001b[0m\u001b[0;34m,\u001b[0m \u001b[0mself\u001b[0m\u001b[0;34m.\u001b[0m\u001b[0mgraph\u001b[0m\u001b[0;34m,\u001b[0m \u001b[0msession\u001b[0m\u001b[0;34m)\u001b[0m\u001b[0;34m\u001b[0m\u001b[0;34m\u001b[0m\u001b[0m\n\u001b[0m\u001b[1;32m    696\u001b[0m \u001b[0;34m\u001b[0m\u001b[0m\n\u001b[1;32m    697\u001b[0m \u001b[0;34m\u001b[0m\u001b[0m\n",
      "\u001b[0;32m/usr/local/lib/python3.6/dist-packages/tensorflow/python/framework/ops.py\u001b[0m in \u001b[0;36m_eval_using_default_session\u001b[0;34m(tensors, feed_dict, graph, session)\u001b[0m\n\u001b[1;32m   5179\u001b[0m                        \u001b[0;34m\"the tensor's graph is different from the session's \"\u001b[0m\u001b[0;34m\u001b[0m\u001b[0;34m\u001b[0m\u001b[0m\n\u001b[1;32m   5180\u001b[0m                        \"graph.\")\n\u001b[0;32m-> 5181\u001b[0;31m   \u001b[0;32mreturn\u001b[0m \u001b[0msession\u001b[0m\u001b[0;34m.\u001b[0m\u001b[0mrun\u001b[0m\u001b[0;34m(\u001b[0m\u001b[0mtensors\u001b[0m\u001b[0;34m,\u001b[0m \u001b[0mfeed_dict\u001b[0m\u001b[0;34m)\u001b[0m\u001b[0;34m\u001b[0m\u001b[0;34m\u001b[0m\u001b[0m\n\u001b[0m\u001b[1;32m   5182\u001b[0m \u001b[0;34m\u001b[0m\u001b[0m\n\u001b[1;32m   5183\u001b[0m \u001b[0;34m\u001b[0m\u001b[0m\n",
      "\u001b[0;32m/usr/local/lib/python3.6/dist-packages/tensorflow/python/client/session.py\u001b[0m in \u001b[0;36mrun\u001b[0;34m(self, fetches, feed_dict, options, run_metadata)\u001b[0m\n\u001b[1;32m    927\u001b[0m     \u001b[0;32mtry\u001b[0m\u001b[0;34m:\u001b[0m\u001b[0;34m\u001b[0m\u001b[0;34m\u001b[0m\u001b[0m\n\u001b[1;32m    928\u001b[0m       result = self._run(None, fetches, feed_dict, options_ptr,\n\u001b[0;32m--> 929\u001b[0;31m                          run_metadata_ptr)\n\u001b[0m\u001b[1;32m    930\u001b[0m       \u001b[0;32mif\u001b[0m \u001b[0mrun_metadata\u001b[0m\u001b[0;34m:\u001b[0m\u001b[0;34m\u001b[0m\u001b[0;34m\u001b[0m\u001b[0m\n\u001b[1;32m    931\u001b[0m         \u001b[0mproto_data\u001b[0m \u001b[0;34m=\u001b[0m \u001b[0mtf_session\u001b[0m\u001b[0;34m.\u001b[0m\u001b[0mTF_GetBuffer\u001b[0m\u001b[0;34m(\u001b[0m\u001b[0mrun_metadata_ptr\u001b[0m\u001b[0;34m)\u001b[0m\u001b[0;34m\u001b[0m\u001b[0;34m\u001b[0m\u001b[0m\n",
      "\u001b[0;32m/usr/local/lib/python3.6/dist-packages/tensorflow/python/client/session.py\u001b[0m in \u001b[0;36m_run\u001b[0;34m(self, handle, fetches, feed_dict, options, run_metadata)\u001b[0m\n\u001b[1;32m   1150\u001b[0m     \u001b[0;32mif\u001b[0m \u001b[0mfinal_fetches\u001b[0m \u001b[0;32mor\u001b[0m \u001b[0mfinal_targets\u001b[0m \u001b[0;32mor\u001b[0m \u001b[0;34m(\u001b[0m\u001b[0mhandle\u001b[0m \u001b[0;32mand\u001b[0m \u001b[0mfeed_dict_tensor\u001b[0m\u001b[0;34m)\u001b[0m\u001b[0;34m:\u001b[0m\u001b[0;34m\u001b[0m\u001b[0;34m\u001b[0m\u001b[0m\n\u001b[1;32m   1151\u001b[0m       results = self._do_run(handle, final_targets, final_fetches,\n\u001b[0;32m-> 1152\u001b[0;31m                              feed_dict_tensor, options, run_metadata)\n\u001b[0m\u001b[1;32m   1153\u001b[0m     \u001b[0;32melse\u001b[0m\u001b[0;34m:\u001b[0m\u001b[0;34m\u001b[0m\u001b[0;34m\u001b[0m\u001b[0m\n\u001b[1;32m   1154\u001b[0m       \u001b[0mresults\u001b[0m \u001b[0;34m=\u001b[0m \u001b[0;34m[\u001b[0m\u001b[0;34m]\u001b[0m\u001b[0;34m\u001b[0m\u001b[0;34m\u001b[0m\u001b[0m\n",
      "\u001b[0;32m/usr/local/lib/python3.6/dist-packages/tensorflow/python/client/session.py\u001b[0m in \u001b[0;36m_do_run\u001b[0;34m(self, handle, target_list, fetch_list, feed_dict, options, run_metadata)\u001b[0m\n\u001b[1;32m   1326\u001b[0m     \u001b[0;32mif\u001b[0m \u001b[0mhandle\u001b[0m \u001b[0;32mis\u001b[0m \u001b[0;32mNone\u001b[0m\u001b[0;34m:\u001b[0m\u001b[0;34m\u001b[0m\u001b[0;34m\u001b[0m\u001b[0m\n\u001b[1;32m   1327\u001b[0m       return self._do_call(_run_fn, feeds, fetches, targets, options,\n\u001b[0;32m-> 1328\u001b[0;31m                            run_metadata)\n\u001b[0m\u001b[1;32m   1329\u001b[0m     \u001b[0;32melse\u001b[0m\u001b[0;34m:\u001b[0m\u001b[0;34m\u001b[0m\u001b[0;34m\u001b[0m\u001b[0m\n\u001b[1;32m   1330\u001b[0m       \u001b[0;32mreturn\u001b[0m \u001b[0mself\u001b[0m\u001b[0;34m.\u001b[0m\u001b[0m_do_call\u001b[0m\u001b[0;34m(\u001b[0m\u001b[0m_prun_fn\u001b[0m\u001b[0;34m,\u001b[0m \u001b[0mhandle\u001b[0m\u001b[0;34m,\u001b[0m \u001b[0mfeeds\u001b[0m\u001b[0;34m,\u001b[0m \u001b[0mfetches\u001b[0m\u001b[0;34m)\u001b[0m\u001b[0;34m\u001b[0m\u001b[0;34m\u001b[0m\u001b[0m\n",
      "\u001b[0;32m/usr/local/lib/python3.6/dist-packages/tensorflow/python/client/session.py\u001b[0m in \u001b[0;36m_do_call\u001b[0;34m(self, fn, *args)\u001b[0m\n\u001b[1;32m   1332\u001b[0m   \u001b[0;32mdef\u001b[0m \u001b[0m_do_call\u001b[0m\u001b[0;34m(\u001b[0m\u001b[0mself\u001b[0m\u001b[0;34m,\u001b[0m \u001b[0mfn\u001b[0m\u001b[0;34m,\u001b[0m \u001b[0;34m*\u001b[0m\u001b[0margs\u001b[0m\u001b[0;34m)\u001b[0m\u001b[0;34m:\u001b[0m\u001b[0;34m\u001b[0m\u001b[0;34m\u001b[0m\u001b[0m\n\u001b[1;32m   1333\u001b[0m     \u001b[0;32mtry\u001b[0m\u001b[0;34m:\u001b[0m\u001b[0;34m\u001b[0m\u001b[0;34m\u001b[0m\u001b[0m\n\u001b[0;32m-> 1334\u001b[0;31m       \u001b[0;32mreturn\u001b[0m \u001b[0mfn\u001b[0m\u001b[0;34m(\u001b[0m\u001b[0;34m*\u001b[0m\u001b[0margs\u001b[0m\u001b[0;34m)\u001b[0m\u001b[0;34m\u001b[0m\u001b[0;34m\u001b[0m\u001b[0m\n\u001b[0m\u001b[1;32m   1335\u001b[0m     \u001b[0;32mexcept\u001b[0m \u001b[0merrors\u001b[0m\u001b[0;34m.\u001b[0m\u001b[0mOpError\u001b[0m \u001b[0;32mas\u001b[0m \u001b[0me\u001b[0m\u001b[0;34m:\u001b[0m\u001b[0;34m\u001b[0m\u001b[0;34m\u001b[0m\u001b[0m\n\u001b[1;32m   1336\u001b[0m       \u001b[0mmessage\u001b[0m \u001b[0;34m=\u001b[0m \u001b[0mcompat\u001b[0m\u001b[0;34m.\u001b[0m\u001b[0mas_text\u001b[0m\u001b[0;34m(\u001b[0m\u001b[0me\u001b[0m\u001b[0;34m.\u001b[0m\u001b[0mmessage\u001b[0m\u001b[0;34m)\u001b[0m\u001b[0;34m\u001b[0m\u001b[0;34m\u001b[0m\u001b[0m\n",
      "\u001b[0;32m/usr/local/lib/python3.6/dist-packages/tensorflow/python/client/session.py\u001b[0m in \u001b[0;36m_run_fn\u001b[0;34m(feed_dict, fetch_list, target_list, options, run_metadata)\u001b[0m\n\u001b[1;32m   1317\u001b[0m       \u001b[0mself\u001b[0m\u001b[0;34m.\u001b[0m\u001b[0m_extend_graph\u001b[0m\u001b[0;34m(\u001b[0m\u001b[0;34m)\u001b[0m\u001b[0;34m\u001b[0m\u001b[0;34m\u001b[0m\u001b[0m\n\u001b[1;32m   1318\u001b[0m       return self._call_tf_sessionrun(\n\u001b[0;32m-> 1319\u001b[0;31m           options, feed_dict, fetch_list, target_list, run_metadata)\n\u001b[0m\u001b[1;32m   1320\u001b[0m \u001b[0;34m\u001b[0m\u001b[0m\n\u001b[1;32m   1321\u001b[0m     \u001b[0;32mdef\u001b[0m \u001b[0m_prun_fn\u001b[0m\u001b[0;34m(\u001b[0m\u001b[0mhandle\u001b[0m\u001b[0;34m,\u001b[0m \u001b[0mfeed_dict\u001b[0m\u001b[0;34m,\u001b[0m \u001b[0mfetch_list\u001b[0m\u001b[0;34m)\u001b[0m\u001b[0;34m:\u001b[0m\u001b[0;34m\u001b[0m\u001b[0;34m\u001b[0m\u001b[0m\n",
      "\u001b[0;32m/usr/local/lib/python3.6/dist-packages/tensorflow/python/client/session.py\u001b[0m in \u001b[0;36m_call_tf_sessionrun\u001b[0;34m(self, options, feed_dict, fetch_list, target_list, run_metadata)\u001b[0m\n\u001b[1;32m   1405\u001b[0m     return tf_session.TF_SessionRun_wrapper(\n\u001b[1;32m   1406\u001b[0m         \u001b[0mself\u001b[0m\u001b[0;34m.\u001b[0m\u001b[0m_session\u001b[0m\u001b[0;34m,\u001b[0m \u001b[0moptions\u001b[0m\u001b[0;34m,\u001b[0m \u001b[0mfeed_dict\u001b[0m\u001b[0;34m,\u001b[0m \u001b[0mfetch_list\u001b[0m\u001b[0;34m,\u001b[0m \u001b[0mtarget_list\u001b[0m\u001b[0;34m,\u001b[0m\u001b[0;34m\u001b[0m\u001b[0;34m\u001b[0m\u001b[0m\n\u001b[0;32m-> 1407\u001b[0;31m         run_metadata)\n\u001b[0m\u001b[1;32m   1408\u001b[0m \u001b[0;34m\u001b[0m\u001b[0m\n\u001b[1;32m   1409\u001b[0m   \u001b[0;32mdef\u001b[0m \u001b[0m_call_tf_sessionprun\u001b[0m\u001b[0;34m(\u001b[0m\u001b[0mself\u001b[0m\u001b[0;34m,\u001b[0m \u001b[0mhandle\u001b[0m\u001b[0;34m,\u001b[0m \u001b[0mfeed_dict\u001b[0m\u001b[0;34m,\u001b[0m \u001b[0mfetch_list\u001b[0m\u001b[0;34m)\u001b[0m\u001b[0;34m:\u001b[0m\u001b[0;34m\u001b[0m\u001b[0;34m\u001b[0m\u001b[0m\n",
      "\u001b[0;31mKeyboardInterrupt\u001b[0m: "
     ]
    }
   ],
   "source": [
    "acc_pre = 0\n",
    "\n",
    "nobenefitsteps = 0\n",
    "maxnobenefitsteps = 30000\n",
    "\n",
    "Xbatch , ybatch = get_next_batch(global_step , 2000)\n",
    "\n",
    "Xa_ = Xbatch[: , 0 , 0 , :]\n",
    "Xb_ = Xbatch[: , 1 , 0 , :]\n",
    "\n",
    "with tf.Session() as sess:\n",
    "    sess.run(init)\n",
    "    \n",
    "    for epoch in range(n_epoch):\n",
    "        for step in range(n_batches):\n",
    "            global_step = step + epoch * n_batches\n",
    "            \n",
    "            \n",
    "            #Xbatch , ybatch = generate_batch(Xm , ym , batch_size)\n",
    "            \n",
    "            #ybatch = 1 - ybatch\n",
    "            feed_dict={Xa:Xa_ , Xb:Xb_ , \"y:0\":ybatch , training:True}\n",
    "            #feed_dict={X:Xbatch , Y:ybatch , training:True}\n",
    "            sess.run(training_op , feed_dict=feed_dict)\n",
    "            acc = sess.run(accuracy , feed_dict={Xa:Xa_ , Xb:Xb_, \"y:0\":ybatch , training:False})\n",
    "            acc_sum = acc_summary.eval(feed_dict = {Xa:Xa_ , Xb:Xb_ , \"y:0\":ybatch , training:False})\n",
    "            \n",
    "            #loss_sum = loss_summary.eval(feed_dict = {Xa:Xa_ , Xb:Xb_ , \"y:0\":ybatch , training:False})\n",
    "            file_writer.add_summary(acc_sum , global_step)\n",
    "            #file_writer.add_summary(loss_sum , global_step)\n",
    "            if acc > acc_pre:\n",
    "                acc_pre = acc\n",
    "                saver.save(sess , \"/tmp/my_best_model.ckpt\")\n",
    "            else :\n",
    "                nobenefitsteps = nobenefitsteps + 1 \n",
    "        print(\"Epoch : {} | Accuracy : {} | Best : {}\".format(epoch , acc , acc_pre))\n",
    "        if nobenefitsteps > maxnobenefitsteps:\n",
    "            print(\"Quitting , {} steps occured with no benefit\".format(nobenefitsteps))\n",
    "            break"
   ]
  },
  {
   "cell_type": "code",
   "execution_count": 19,
   "metadata": {},
   "outputs": [],
   "source": [
    "output.name\n",
    "subterm = 0\n",
    "c , d = get_next_batch(0 , 100)\n",
    "im1 = c[: , 0 , 0 , :]\n",
    "im2 = c[: , 1 , 0 , :]"
   ]
  },
  {
   "cell_type": "code",
   "execution_count": 20,
   "metadata": {},
   "outputs": [
    {
     "name": "stdout",
     "output_type": "stream",
     "text": [
      "INFO:tensorflow:Restoring parameters from /tmp/my_best_model.ckpt\n"
     ]
    }
   ],
   "source": [
    "with tf.Session() as sess:\n",
    "    saver.restore(sess , \"/tmp/my_best_model.ckpt\")\n",
    "    results = sess.run(output , feed_dict={Xa:im1 , Xb:im2 , training: False})"
   ]
  },
  {
   "cell_type": "code",
   "execution_count": 21,
   "metadata": {},
   "outputs": [
    {
     "data": {
      "text/plain": [
       "array([[-12.046848  ],\n",
       "       [ -1.2145419 ],\n",
       "       [ -7.1269965 ],\n",
       "       [ -4.2245536 ],\n",
       "       [ -5.864941  ],\n",
       "       [  1.4134359 ],\n",
       "       [  5.1296754 ],\n",
       "       [-10.219156  ],\n",
       "       [ -4.4659753 ],\n",
       "       [ -3.062059  ],\n",
       "       [ -0.6723461 ],\n",
       "       [ -8.104567  ],\n",
       "       [ -4.30096   ],\n",
       "       [-10.554483  ],\n",
       "       [-20.223383  ],\n",
       "       [ -1.3918729 ],\n",
       "       [ -5.853733  ],\n",
       "       [ -0.9025965 ],\n",
       "       [  1.181603  ],\n",
       "       [-10.389662  ],\n",
       "       [  5.9224296 ],\n",
       "       [ -5.1455364 ],\n",
       "       [ -4.0348644 ],\n",
       "       [ -0.79658365],\n",
       "       [-13.494886  ],\n",
       "       [ -8.367344  ],\n",
       "       [-15.942022  ],\n",
       "       [ -3.9420428 ],\n",
       "       [  2.5015607 ],\n",
       "       [ -5.096929  ],\n",
       "       [ -2.763115  ],\n",
       "       [ -3.0678415 ],\n",
       "       [  0.04795456],\n",
       "       [ -2.4220595 ],\n",
       "       [ -6.234724  ],\n",
       "       [ -1.5280042 ],\n",
       "       [ -0.3401971 ],\n",
       "       [-10.492098  ],\n",
       "       [  4.1069527 ],\n",
       "       [  0.24385118],\n",
       "       [-17.209915  ],\n",
       "       [ -3.6478052 ],\n",
       "       [ -5.585795  ],\n",
       "       [-11.7277775 ],\n",
       "       [ -8.400049  ],\n",
       "       [ -4.5843024 ],\n",
       "       [-11.334402  ],\n",
       "       [ -3.2851439 ],\n",
       "       [  1.1836448 ],\n",
       "       [ -6.634336  ],\n",
       "       [ -7.9352508 ],\n",
       "       [-26.178652  ],\n",
       "       [ -6.823013  ],\n",
       "       [ -1.9680052 ],\n",
       "       [-15.75256   ],\n",
       "       [-10.981346  ],\n",
       "       [ -2.252314  ],\n",
       "       [ -4.841609  ],\n",
       "       [ -2.629684  ],\n",
       "       [ -1.6539574 ],\n",
       "       [ -8.960623  ],\n",
       "       [ -1.2085767 ],\n",
       "       [-13.186039  ],\n",
       "       [-12.68763   ],\n",
       "       [ -2.0818696 ],\n",
       "       [ -5.8528113 ],\n",
       "       [ -3.4887328 ],\n",
       "       [ -5.154456  ],\n",
       "       [-10.935175  ],\n",
       "       [  2.2932162 ],\n",
       "       [ -0.7515397 ],\n",
       "       [ -5.293074  ],\n",
       "       [ -0.71390676],\n",
       "       [  1.0203714 ],\n",
       "       [-10.187981  ],\n",
       "       [-15.386251  ],\n",
       "       [ -2.6344829 ],\n",
       "       [ -6.5387306 ],\n",
       "       [ -3.8899817 ],\n",
       "       [  3.4387338 ],\n",
       "       [ -4.109463  ],\n",
       "       [ -3.4009643 ],\n",
       "       [ -2.1077876 ],\n",
       "       [-17.4066    ],\n",
       "       [-14.892511  ],\n",
       "       [ -6.189241  ],\n",
       "       [-12.865335  ],\n",
       "       [ -0.16423082],\n",
       "       [ -6.983936  ],\n",
       "       [ -3.601493  ],\n",
       "       [ -9.470196  ],\n",
       "       [-10.863483  ],\n",
       "       [ -7.392603  ],\n",
       "       [ -9.202694  ],\n",
       "       [ -8.98497   ],\n",
       "       [ -8.898251  ],\n",
       "       [-11.479477  ],\n",
       "       [-13.64492   ],\n",
       "       [ -3.7618136 ],\n",
       "       [  0.13213015]], dtype=float32)"
      ]
     },
     "execution_count": 21,
     "metadata": {},
     "output_type": "execute_result"
    }
   ],
   "source": [
    "results#.astype(np.int)"
   ]
  },
  {
   "cell_type": "code",
   "execution_count": 15,
   "metadata": {},
   "outputs": [],
   "source": [
    "import matplotlib.pyplot as plt\n",
    "\n",
    "def data_checker( t , index):\n",
    "    X , y = t\n",
    "    plt.imshow(X[index][0].reshape(28,28))\n",
    "    plt.show()\n",
    "    plt.figure()\n",
    "    plt.imshow(X[index][1].reshape(28,28))\n",
    "    plt.show()\n",
    "    print(y[index])\n",
    "    \n",
    "z = get_next_batch(0 , 50)"
   ]
  },
  {
   "cell_type": "code",
   "execution_count": 17,
   "metadata": {},
   "outputs": [
    {
     "data": {
      "image/png": "[encoded data removed]",
      "text/plain": [
       "<Figure size 432x288 with 1 Axes>"
      ]
     },
     "metadata": {},
     "output_type": "display_data"
    },
    {
     "data": {
      "image/png": "[encoded data removed]",
      "text/plain": [
       "<Figure size 432x288 with 1 Axes>"
      ]
     },
     "metadata": {},
     "output_type": "display_data"
    },
    {
     "name": "stdout",
     "output_type": "stream",
     "text": [
      "0.0\n"
     ]
    }
   ],
   "source": [
    "subterm = 0\n",
    "data_checker( z , 48)"
   ]
  },
  {
   "cell_type": "code",
   "execution_count": null,
   "metadata": {},
   "outputs": [],
   "source": [
    "Xa"
   ]
  },
  {
   "cell_type": "code",
   "execution_count": null,
   "metadata": {},
   "outputs": [],
   "source": [
    "Xa_.shape"
   ]
  },
  {
   "cell_type": "code",
   "execution_count": null,
   "metadata": {},
   "outputs": [],
   "source": [
    "Xb_.shape"
   ]
  },
  {
   "cell_type": "code",
   "execution_count": null,
   "metadata": {},
   "outputs": [],
   "source": [
    "ybatch.shape"
   ]
  },
  {
   "cell_type": "code",
   "execution_count": null,
   "metadata": {},
   "outputs": [],
   "source": [
    "tf.get_default_graph().get_tensor_by_name(\"y:0\").get_shape()"
   ]
  },
  {
   "cell_type": "code",
   "execution_count": null,
   "metadata": {},
   "outputs": [],
   "source": []
  }
 ],
 "metadata": {
  "kernelspec": {
   "display_name": "Python 3",
   "language": "python",
   "name": "python3"
  },
  "language_info": {
   "codemirror_mode": {
    "name": "ipython",
    "version": 3
   },
   "file_extension": ".py",
   "mimetype": "text/x-python",
   "name": "python",
   "nbconvert_exporter": "python",
   "pygments_lexer": "ipython3",
   "version": "3.6.8"
  }
 },
 "nbformat": 4,
 "nbformat_minor": 2
}
